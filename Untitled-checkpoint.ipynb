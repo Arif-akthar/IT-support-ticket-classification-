{
 "cells": [
  {
   "cell_type": "code",
   "execution_count": 1,
   "id": "947a9d61",
   "metadata": {},
   "outputs": [],
   "source": [
    "import pandas as pd\n",
    "import numpy as np\n",
    "\n",
    "import pandas as pd\n",
    "import re\n",
    "import spacy\n",
    "import nltk\n",
    "from nltk.stem import WordNetLemmatizer\n",
    "from nltk.corpus import stopwords"
   ]
  },
  {
   "cell_type": "code",
   "execution_count": 2,
   "id": "8c2f0521",
   "metadata": {},
   "outputs": [
    {
     "data": {
      "text/html": [
       "<div>\n",
       "<style scoped>\n",
       "    .dataframe tbody tr th:only-of-type {\n",
       "        vertical-align: middle;\n",
       "    }\n",
       "\n",
       "    .dataframe tbody tr th {\n",
       "        vertical-align: top;\n",
       "    }\n",
       "\n",
       "    .dataframe thead th {\n",
       "        text-align: right;\n",
       "    }\n",
       "</style>\n",
       "<table border=\"1\" class=\"dataframe\">\n",
       "  <thead>\n",
       "    <tr style=\"text-align: right;\">\n",
       "      <th></th>\n",
       "      <th>Ticket_Type</th>\n",
       "      <th>Ticket_Description</th>\n",
       "    </tr>\n",
       "  </thead>\n",
       "  <tbody>\n",
       "    <tr>\n",
       "      <th>0</th>\n",
       "      <td>Technical issue</td>\n",
       "      <td>I'm having an issue with the {product_purchase...</td>\n",
       "    </tr>\n",
       "    <tr>\n",
       "      <th>1</th>\n",
       "      <td>Technical issue</td>\n",
       "      <td>I'm having an issue with the {product_purchase...</td>\n",
       "    </tr>\n",
       "    <tr>\n",
       "      <th>2</th>\n",
       "      <td>Technical issue</td>\n",
       "      <td>I'm facing a problem with my {product_purchase...</td>\n",
       "    </tr>\n",
       "    <tr>\n",
       "      <th>3</th>\n",
       "      <td>Billing inquiry</td>\n",
       "      <td>I'm having an issue with the {product_purchase...</td>\n",
       "    </tr>\n",
       "    <tr>\n",
       "      <th>4</th>\n",
       "      <td>Billing inquiry</td>\n",
       "      <td>I'm having an issue with the {product_purchase...</td>\n",
       "    </tr>\n",
       "  </tbody>\n",
       "</table>\n",
       "</div>"
      ],
      "text/plain": [
       "       Ticket_Type                                 Ticket_Description\n",
       "0  Technical issue  I'm having an issue with the {product_purchase...\n",
       "1  Technical issue  I'm having an issue with the {product_purchase...\n",
       "2  Technical issue  I'm facing a problem with my {product_purchase...\n",
       "3  Billing inquiry  I'm having an issue with the {product_purchase...\n",
       "4  Billing inquiry  I'm having an issue with the {product_purchase..."
      ]
     },
     "execution_count": 2,
     "metadata": {},
     "output_type": "execute_result"
    }
   ],
   "source": [
    "path = \"C:\\FINAL PROJECT\\customer_support_tickets.csv\"\n",
    "data = pd.read_csv(path,usecols=['Ticket Description','Ticket Type'])\n",
    "data.rename(columns={'Ticket Description': 'Ticket_Description',\n",
    "                     'Ticket Type': 'Ticket_Type'}, inplace=True)\n",
    "# data.rename(columns={}, inplace=True)\n",
    "data.head()"
   ]
  },
  {
   "cell_type": "code",
   "execution_count": 3,
   "id": "24ef22f6",
   "metadata": {},
   "outputs": [
    {
     "data": {
      "text/plain": [
       "Ticket_Type\n",
       "Refund request          1752\n",
       "Technical issue         1747\n",
       "Cancellation request    1695\n",
       "Product inquiry         1641\n",
       "Billing inquiry         1634\n",
       "Name: count, dtype: int64"
      ]
     },
     "execution_count": 3,
     "metadata": {},
     "output_type": "execute_result"
    }
   ],
   "source": [
    "data['Ticket_Type'].value_counts()"
   ]
  },
  {
   "cell_type": "code",
   "execution_count": 4,
   "id": "e7d4c087",
   "metadata": {},
   "outputs": [
    {
     "data": {
      "text/html": [
       "<div>\n",
       "<style scoped>\n",
       "    .dataframe tbody tr th:only-of-type {\n",
       "        vertical-align: middle;\n",
       "    }\n",
       "\n",
       "    .dataframe tbody tr th {\n",
       "        vertical-align: top;\n",
       "    }\n",
       "\n",
       "    .dataframe thead th {\n",
       "        text-align: right;\n",
       "    }\n",
       "</style>\n",
       "<table border=\"1\" class=\"dataframe\">\n",
       "  <thead>\n",
       "    <tr style=\"text-align: right;\">\n",
       "      <th></th>\n",
       "      <th>Ticket_Type</th>\n",
       "      <th>Ticket_Description</th>\n",
       "    </tr>\n",
       "  </thead>\n",
       "  <tbody>\n",
       "    <tr>\n",
       "      <th>0</th>\n",
       "      <td>Technical issue</td>\n",
       "      <td>i'm having an issue with the {product_purchase...</td>\n",
       "    </tr>\n",
       "    <tr>\n",
       "      <th>1</th>\n",
       "      <td>Technical issue</td>\n",
       "      <td>i'm having an issue with the {product_purchase...</td>\n",
       "    </tr>\n",
       "    <tr>\n",
       "      <th>2</th>\n",
       "      <td>Technical issue</td>\n",
       "      <td>i'm facing a problem with my {product_purchase...</td>\n",
       "    </tr>\n",
       "    <tr>\n",
       "      <th>3</th>\n",
       "      <td>Billing inquiry</td>\n",
       "      <td>i'm having an issue with the {product_purchase...</td>\n",
       "    </tr>\n",
       "    <tr>\n",
       "      <th>4</th>\n",
       "      <td>Billing inquiry</td>\n",
       "      <td>i'm having an issue with the {product_purchase...</td>\n",
       "    </tr>\n",
       "    <tr>\n",
       "      <th>...</th>\n",
       "      <td>...</td>\n",
       "      <td>...</td>\n",
       "    </tr>\n",
       "    <tr>\n",
       "      <th>8464</th>\n",
       "      <td>Product inquiry</td>\n",
       "      <td>my {product_purchased} is making strange noise...</td>\n",
       "    </tr>\n",
       "    <tr>\n",
       "      <th>8465</th>\n",
       "      <td>Technical issue</td>\n",
       "      <td>i'm having an issue with the {product_purchase...</td>\n",
       "    </tr>\n",
       "    <tr>\n",
       "      <th>8466</th>\n",
       "      <td>Technical issue</td>\n",
       "      <td>i'm having an issue with the {product_purchase...</td>\n",
       "    </tr>\n",
       "    <tr>\n",
       "      <th>8467</th>\n",
       "      <td>Product inquiry</td>\n",
       "      <td>i'm having an issue with the {product_purchase...</td>\n",
       "    </tr>\n",
       "    <tr>\n",
       "      <th>8468</th>\n",
       "      <td>Billing inquiry</td>\n",
       "      <td>there seems to be a hardware problem with my {...</td>\n",
       "    </tr>\n",
       "  </tbody>\n",
       "</table>\n",
       "<p>8469 rows × 2 columns</p>\n",
       "</div>"
      ],
      "text/plain": [
       "          Ticket_Type                                 Ticket_Description\n",
       "0     Technical issue  i'm having an issue with the {product_purchase...\n",
       "1     Technical issue  i'm having an issue with the {product_purchase...\n",
       "2     Technical issue  i'm facing a problem with my {product_purchase...\n",
       "3     Billing inquiry  i'm having an issue with the {product_purchase...\n",
       "4     Billing inquiry  i'm having an issue with the {product_purchase...\n",
       "...               ...                                                ...\n",
       "8464  Product inquiry  my {product_purchased} is making strange noise...\n",
       "8465  Technical issue  i'm having an issue with the {product_purchase...\n",
       "8466  Technical issue  i'm having an issue with the {product_purchase...\n",
       "8467  Product inquiry  i'm having an issue with the {product_purchase...\n",
       "8468  Billing inquiry  there seems to be a hardware problem with my {...\n",
       "\n",
       "[8469 rows x 2 columns]"
      ]
     },
     "execution_count": 4,
     "metadata": {},
     "output_type": "execute_result"
    }
   ],
   "source": [
    "data['Ticket_Description'] = data['Ticket_Description'].apply(lambda x: x.lower())             #apply(apply_lower)            #.str.lower()\n",
    "data"
   ]
  },
  {
   "cell_type": "code",
   "execution_count": 5,
   "id": "bf971470",
   "metadata": {},
   "outputs": [],
   "source": [
    "data = data.drop_duplicates()\n",
    "data = data.reset_index(drop=True)"
   ]
  },
  {
   "cell_type": "code",
   "execution_count": 6,
   "id": "e3539d7d",
   "metadata": {},
   "outputs": [
    {
     "name": "stdout",
     "output_type": "stream",
     "text": [
      "i'm having an issue with the {product_purchased}. please assist.\n",
      "\n",
      "your billing zip code is: 71701.\n",
      "\n",
      "we appreciate that you have requested a website address.\n",
      "\n",
      "please double check your email address. i've tried troubleshooting steps mentioned in the user manual, but the issue persists.\n",
      "================================================== \n",
      "\n",
      "i'm having an issue with the {product_purchased}. please assist.\n",
      "\n",
      "if you need to change an existing product.\n",
      "\n",
      "i'm having an issue with the {product_purchased}. please assist.\n",
      "\n",
      "if the issue i'm facing is intermittent. sometimes it works fine, but other times it acts up unexpectedly.\n",
      "================================================== \n",
      "\n",
      "i'm facing a problem with my {product_purchased}. the {product_purchased} is not turning on. it was working fine until yesterday, but now it doesn't respond.\n",
      "\n",
      "1.8.3 i really i'm using the original charger that came with my {product_purchased}, but it's not charging properly.\n",
      "================================================== \n",
      "\n",
      "i'm having an issue with the {product_purchased}. please assist.\n",
      "\n",
      "if you have a problem you're interested in and i'd love to see this happen, please check out the feedback. i've already contacted customer support multiple times, but the issue remains unresolved.\n",
      "================================================== \n",
      "\n",
      "i'm having an issue with the {product_purchased}. please assist.\n",
      "\n",
      "\n",
      "note: the seller is not responsible for any damages arising out of the delivery of the battleground game. please have the game in good condition and shipped to you i've noticed a sudden decrease in battery life on my {product_purchased}. it used to last much longer.\n",
      "================================================== \n",
      "\n",
      "i'm facing a problem with my {product_purchased}. the {product_purchased} is not turning on. it was working fine until yesterday, but now it doesn't respond. to remove the new {product_purch i've checked for any available software updates for my {product_purchased}, but there are none.\n",
      "================================================== \n",
      "\n",
      "i'm unable to access my {product_purchased} account. it keeps displaying an 'invalid credentials' error, even though i'm using the correct login information. how can i regain access to my account?\n",
      "\n",
      "solution 1 i'm unable to find the option to perform the desired action in the {product_purchased}. could you please guide me through the steps?\n",
      "================================================== \n",
      "\n",
      "i'm having an issue with the {product_purchased}. please assist. (thanks) i will contact all my suppliers and confirm.\n",
      "\n",
      "please try and find out whether their inventory is currently stocked, or any other reason. i am i've performed a factory reset on my {product_purchased}, hoping it would resolve the problem, but it didn't help.\n",
      "================================================== \n",
      "\n",
      "i'm having an issue with the {product_purchased}. please assist. thank you.\n",
      "\n",
      "{product_purchased} is not the exact type you might prefer, they use the exact same method for different uses. please help i've recently updated the firmware of my {product_purchased}, and the issue started happening afterward. could it be related to the update?\n",
      "================================================== \n",
      "\n",
      "my {product_purchased} is making strange noises and not functioning properly. i suspect there might be a hardware issue. can you please help me with this?\n",
      "\n",
      "} if we can, please send a \"request\" to dav the issue i'm facing is intermittent. sometimes it works fine, but other times it acts up unexpectedly.\n",
      "================================================== \n",
      "\n"
     ]
    }
   ],
   "source": [
    "for i in range(10):\n",
    "    print(data['Ticket_Description'][i])\n",
    "    print('='*50,'\\n')"
   ]
  },
  {
   "cell_type": "code",
   "execution_count": 7,
   "id": "425989eb",
   "metadata": {},
   "outputs": [
    {
     "data": {
      "text/plain": [
       "(8189, 2)"
      ]
     },
     "execution_count": 7,
     "metadata": {},
     "output_type": "execute_result"
    }
   ],
   "source": [
    "data.shape"
   ]
  },
  {
   "cell_type": "code",
   "execution_count": 8,
   "id": "92d687a3",
   "metadata": {},
   "outputs": [
    {
     "data": {
      "text/plain": [
       "\"i'm having an issue with the {product_purchased}. please assist.\\n\\nyour billing zip code is: 71701.\\n\\nwe appreciate that you have requested a website address.\\n\\nplease double check your email address. i've tried troubleshooting steps mentioned in the user manual, but the issue persists.\""
      ]
     },
     "execution_count": 8,
     "metadata": {},
     "output_type": "execute_result"
    }
   ],
   "source": [
    "data['Ticket_Description'][0]"
   ]
  },
  {
   "cell_type": "code",
   "execution_count": 9,
   "id": "397af815",
   "metadata": {},
   "outputs": [],
   "source": [
    "df = data.copy()"
   ]
  },
  {
   "cell_type": "markdown",
   "id": "03fccde6",
   "metadata": {},
   "source": [
    "### Pre-processing"
   ]
  },
  {
   "cell_type": "code",
   "execution_count": 7,
   "id": "582703bc",
   "metadata": {},
   "outputs": [],
   "source": [
    "nlp = spacy.load('en_core_web_sm')\n",
    "\n",
    "from nltk.stem import WordNetLemmatizer\n",
    "lemmatizer = WordNetLemmatizer()"
   ]
  },
  {
   "cell_type": "code",
   "execution_count": 8,
   "id": "386d8e63",
   "metadata": {},
   "outputs": [
    {
     "name": "stderr",
     "output_type": "stream",
     "text": [
      "[nltk_data] Error loading stopwords: <urlopen error [Errno 11001]\n",
      "[nltk_data]     getaddrinfo failed>\n"
     ]
    }
   ],
   "source": [
    "import nltk\n",
    "nltk.download('stopwords')\n",
    "additional_stopwords = [\"i\", \"I\",\"hi\", \"hello\", \"dear\", \"please\", \"thank\",\"issue\",\"product\",\"purchase\"]\n",
    "all_stopwords = list(stopwords.words('english'))\n",
    "all_stopwords.extend(additional_stopwords)\n",
    "Stopwords = set(all_stopwords)\n",
    "\n",
    "def remove_stopwords(text):\n",
    "    return \" \".join([word for word in text.split() if word not in Stopwords])\n",
    "\n",
    "def get_lemm(text):\n",
    "    return \" \".join([lemmatizer.lemmatize(words) for words in text.split()])\n",
    "\n",
    "def get_gt2(text):\n",
    "    return \" \".join([word for word in text.split() if len(word)>2])\n",
    "\n",
    "def get_lemm_spacy(text):\n",
    "    doc = nlp(text)\n",
    "    return  \" \".join([token.lemma_ for token in doc])\n",
    "\n",
    "def clean(Text):\n",
    "    resumeText = re.sub('[%s]' % re.escape(\"\"\"!\"#$%&'()*+,-./:;<=>?@[\\]^_`{|}~\"\"\"), ' ', Text)  # remove punctuations\n",
    "    #resumeText = re.sub(r'[^\\x00-\\x7f]',r' ', resumeText) \n",
    "    resumeText = re.sub('\\s+', ' ', resumeText)  \n",
    "    resumeText = get_lemm_spacy(resumeText)\n",
    "    #resumeText = get_gt2(resumeText)\n",
    "    resumeText = remove_stopwords(resumeText)\n",
    "    resumeText = re.sub(r'\\d+', '', resumeText)\n",
    "    \n",
    "    return resumeText"
   ]
  },
  {
   "cell_type": "code",
   "execution_count": null,
   "id": "27a711cb",
   "metadata": {},
   "outputs": [],
   "source": [
    "df[\"Clean_Ticket_Description\"] = df.Ticket_Description.apply(lambda x: clean(x))     # progress_apply()\n",
    "df"
   ]
  },
  {
   "cell_type": "code",
   "execution_count": 18,
   "id": "03ab1599",
   "metadata": {},
   "outputs": [
    {
     "data": {
      "text/plain": [
       "\"i'm having an issue with the {product_purchased}. please assist.\\n\\nyour billing zip code is: 71701.\\n\\nwe appreciate that you have requested a website address.\\n\\nplease double check your email address. i've tried troubleshooting steps mentioned in the user manual, but the issue persists.\""
      ]
     },
     "execution_count": 18,
     "metadata": {},
     "output_type": "execute_result"
    }
   ],
   "source": [
    "df['Ticket_Description'][0]"
   ]
  },
  {
   "cell_type": "code",
   "execution_count": 19,
   "id": "4b9e9e51",
   "metadata": {},
   "outputs": [
    {
     "data": {
      "text/plain": [
       "'assist billing zip code  appreciate request website address double check email address try troubleshoot step mention user manual persist'"
      ]
     },
     "execution_count": 19,
     "metadata": {},
     "output_type": "execute_result"
    }
   ],
   "source": [
    "df['Clean_Ticket_Description'][0]"
   ]
  },
  {
   "cell_type": "code",
   "execution_count": 20,
   "id": "60a1a550",
   "metadata": {},
   "outputs": [
    {
     "data": {
      "text/plain": [
       "'assist need change exist assist face intermittent sometimes work fine time act unexpectedly'"
      ]
     },
     "execution_count": 20,
     "metadata": {},
     "output_type": "execute_result"
    }
   ],
   "source": [
    "df['Clean_Ticket_Description'][1]"
   ]
  },
  {
   "cell_type": "code",
   "execution_count": 21,
   "id": "101c8eed",
   "metadata": {},
   "outputs": [
    {
     "data": {
      "text/plain": [
       "'assist problem interested love see happen check feedback already contact customer support multiple time remain unresolved'"
      ]
     },
     "execution_count": 21,
     "metadata": {},
     "output_type": "execute_result"
    }
   ],
   "source": [
    "df['Clean_Ticket_Description'][3]"
   ]
  },
  {
   "cell_type": "code",
   "execution_count": 22,
   "id": "d2e55c79",
   "metadata": {},
   "outputs": [
    {
     "data": {
      "text/plain": [
       "'seem hardware problem screen flicker unable use try good fix could get review troubleshooting step official support website resolve problem'"
      ]
     },
     "execution_count": 22,
     "metadata": {},
     "output_type": "execute_result"
    }
   ],
   "source": [
    "df['Clean_Ticket_Description'][8188]"
   ]
  },
  {
   "cell_type": "markdown",
   "id": "bc2a3291",
   "metadata": {},
   "source": [
    "## Model Building\n",
    "### Label Encoding"
   ]
  },
  {
   "cell_type": "code",
   "execution_count": 23,
   "id": "d19485b7",
   "metadata": {},
   "outputs": [
    {
     "data": {
      "text/plain": [
       "target\n",
       "3    1688\n",
       "4    1670\n",
       "1    1640\n",
       "2    1599\n",
       "0    1592\n",
       "Name: count, dtype: int64"
      ]
     },
     "execution_count": 23,
     "metadata": {},
     "output_type": "execute_result"
    }
   ],
   "source": [
    "df[\"target\"] = df.Ticket_Type.astype('category').cat.codes\n",
    "df.target.value_counts()"
   ]
  },
  {
   "cell_type": "markdown",
   "id": "9fc594d2",
   "metadata": {},
   "source": [
    "### Train & Test Split"
   ]
  },
  {
   "cell_type": "code",
   "execution_count": 9,
   "id": "acdb3d15",
   "metadata": {},
   "outputs": [
    {
     "ename": "NameError",
     "evalue": "name 'df' is not defined",
     "output_type": "error",
     "traceback": [
      "\u001b[31m---------------------------------------------------------------------------\u001b[39m",
      "\u001b[31mNameError\u001b[39m                                 Traceback (most recent call last)",
      "\u001b[36mCell\u001b[39m\u001b[36m \u001b[39m\u001b[32mIn[9]\u001b[39m\u001b[32m, line 3\u001b[39m\n\u001b[32m      1\u001b[39m \u001b[38;5;28;01mfrom\u001b[39;00m\u001b[38;5;250m \u001b[39m\u001b[34;01msklearn\u001b[39;00m\u001b[34;01m.\u001b[39;00m\u001b[34;01mmodel_selection\u001b[39;00m\u001b[38;5;250m \u001b[39m\u001b[38;5;28;01mimport\u001b[39;00m train_test_split \n\u001b[32m----> \u001b[39m\u001b[32m3\u001b[39m x = \u001b[43mdf\u001b[49m[\u001b[33m'\u001b[39m\u001b[33mClean_Ticket_Description\u001b[39m\u001b[33m'\u001b[39m]\n\u001b[32m      4\u001b[39m y = df[\u001b[33m'\u001b[39m\u001b[33mtarget\u001b[39m\u001b[33m'\u001b[39m]\n\u001b[32m      6\u001b[39m x_train, x_test, y_train, y_test = train_test_split(x, y, test_size=\u001b[32m0.2\u001b[39m, random_state=\u001b[32m0\u001b[39m)\n",
      "\u001b[31mNameError\u001b[39m: name 'df' is not defined"
     ]
    }
   ],
   "source": [
    "from sklearn.model_selection import train_test_split \n",
    "\n",
    "x = df['Clean_Ticket_Description']\n",
    "y = df['target']\n",
    " \n",
    "x_train, x_test, y_train, y_test = train_test_split(x, y, test_size=0.2, random_state=0)"
   ]
  },
  {
   "cell_type": "markdown",
   "id": "b6d613b7",
   "metadata": {},
   "source": [
    "### Classifiers"
   ]
  },
  {
   "cell_type": "code",
   "execution_count": 30,
   "id": "1f4ad4b7",
   "metadata": {},
   "outputs": [],
   "source": [
    "# from sklearn.pipeline import Pipeline\n",
    "# from sklearn.feature_extraction.text import  TfidfTransformer\n",
    "\n",
    "from sklearn.feature_extraction.text import CountVectorizer, TfidfVectorizer\n",
    "\n",
    "from sklearn.naive_bayes import MultinomialNB\n",
    "from sklearn.svm import SVC\n",
    "from sklearn.ensemble import RandomForestClassifier\n",
    "import xgboost as xgb\n",
    "\n",
    "from sklearn.metrics import accuracy_score"
   ]
  },
  {
   "cell_type": "code",
   "execution_count": 31,
   "id": "48d5c9f4",
   "metadata": {},
   "outputs": [],
   "source": [
    "#vec 1\n",
    "c_vectorizer = CountVectorizer(stop_words=stopwords.words('english'))\n",
    "x_train_counts =c_vectorizer.fit_transform(x_train) \n",
    "x_test_counts = c_vectorizer.transform(x_test)\n",
    "\n",
    "#vec 2\n",
    "c_vectorizer_bigram = CountVectorizer(ngram_range=(1,2),stop_words=stopwords.words('english'))\n",
    "x_train_counts_bigram =c_vectorizer_bigram.fit_transform(x_train) \n",
    "x_test_counts_bigram = c_vectorizer_bigram.transform(x_test)\n",
    "\n",
    "#vec 3\n",
    "tfidf_vectorizer = TfidfVectorizer(stop_words=stopwords.words('english'))                         # ---> \n",
    "x_train_tfidf = tfidf_vectorizer.fit_transform(x_train)\n",
    "x_test_tfidf = tfidf_vectorizer.transform(x_test)\n",
    "\n",
    "#vec 4\n",
    "tfidf_vectorizer_bigram = TfidfVectorizer(ngram_range=(1,2),stop_words=stopwords.words('english'))# ---> stop_words=stopwords.words('english')\n",
    "x_train_tfidf_bigram = tfidf_vectorizer_bigram.fit_transform(x_train)\n",
    "x_test_tfidf_bigram = tfidf_vectorizer_bigram.transform(x_test)"
   ]
  },
  {
   "cell_type": "code",
   "execution_count": 32,
   "id": "8e743831",
   "metadata": {},
   "outputs": [],
   "source": [
    "# models\n",
    "clf = MultinomialNB()\n",
    "svc = SVC()\n",
    "rfc = RandomForestClassifier()"
   ]
  },
  {
   "cell_type": "code",
   "execution_count": 34,
   "id": "ec4ae497",
   "metadata": {},
   "outputs": [
    {
     "name": "stdout",
     "output_type": "stream",
     "text": [
      "Classification Accuracy for model 1 : 0.2026862026862027\n"
     ]
    }
   ],
   "source": [
    "#model 1\n",
    "clf.fit(x_train_counts, y_train)\n",
    "\n",
    "#prediction with model 1\n",
    "y_pred_counts = clf.predict(x_test_counts)\n",
    "accuracy = accuracy_score(y_test, y_pred_counts)\n",
    "print(\"Classification Accuracy for model 1 :\", accuracy)"
   ]
  },
  {
   "cell_type": "code",
   "execution_count": 35,
   "id": "c7b0ce50",
   "metadata": {},
   "outputs": [
    {
     "name": "stdout",
     "output_type": "stream",
     "text": [
      "Classification Accuracy for model 2: 0.2045177045177045\n"
     ]
    }
   ],
   "source": [
    "#model 2\n",
    "clf.fit(x_train_counts_bigram, y_train)\n",
    "\n",
    "#prediction with model 2\n",
    "y_pred_counts_bigram = clf.predict(x_test_counts_bigram)\n",
    "counts_bigram_accuracy = accuracy_score(y_test, y_pred_counts_bigram)\n",
    "print(\"Classification Accuracy for model 2:\", counts_bigram_accuracy)"
   ]
  },
  {
   "cell_type": "code",
   "execution_count": 37,
   "id": "0468d0be",
   "metadata": {},
   "outputs": [
    {
     "name": "stdout",
     "output_type": "stream",
     "text": [
      "Classification Accuracy model 3: 0.19413919413919414\n"
     ]
    }
   ],
   "source": [
    "#model 3\n",
    "clf.fit(x_train_tfidf, y_train)\n",
    "\n",
    "#prediction with model 3\n",
    "y_pred_tfidf = clf.predict(x_test_tfidf)\n",
    "tfidf_accuracy = accuracy_score(y_test, y_pred_tfidf)\n",
    "print(\"Classification Accuracy model 3:\", tfidf_accuracy)"
   ]
  },
  {
   "cell_type": "code",
   "execution_count": 39,
   "id": "6f70bf53",
   "metadata": {},
   "outputs": [
    {
     "name": "stdout",
     "output_type": "stream",
     "text": [
      "Classification Accuracy: 0.19291819291819293\n"
     ]
    }
   ],
   "source": [
    "#model 4\n",
    "clf.fit(x_train_tfidf_bigram, y_train)\n",
    "\n",
    "#prediction with model 4\n",
    "y_pred_tfidf_bigram = clf.predict(x_test_tfidf_bigram)\n",
    "tfidf_bigram_accuracy = accuracy_score(y_test, y_pred_tfidf_bigram)\n",
    "print(\"Classification Accuracy:\", tfidf_bigram_accuracy)"
   ]
  },
  {
   "cell_type": "code",
   "execution_count": 40,
   "id": "2ded9548",
   "metadata": {},
   "outputs": [
    {
     "name": "stdout",
     "output_type": "stream",
     "text": [
      "{'assist': 241, 'make': 2278, 'disappear': 1055, 'day': 928, 'due': 1148, 'time': 3947, 'limit': 2192, 'small': 3596, 'number': 2602, 'item': 1994, 'want': 4249, 'trade': 3997, 'need': 2526, 'assistance': 242, 'soon': 3624, 'possible': 2904, 'affect': 79, 'work': 4338, 'productivity': 2994, 'great': 1665, 'one': 2650, 'offer': 2629, 'customer': 877, 'surprised': 3807, 'read': 3146, 'article': 227, 'purch': 3065, 'check': 616, 'device': 1013, 'setting': 3480, 'sure': 3803, 'everything': 1286, 'configure': 750, 'correctly': 806, 'give': 1609, 'away': 296, 'free': 1491, 'mark': 2306, 'giveaway': 1610, 'open': 2658, 'till': 3945, 'pm': 2874, 'pst': 3053, 'worried': 4349, 'might': 2390, 'hardware': 1713, 'relate': 3220, 'require': 3268, 'repair': 3250, 'replacement': 3254, 'face': 1346, 'problem': 2973, 'turn': 4037, 'fine': 1419, 'yesterday': 4438, 'respond': 3288, 'think': 3924, 'ok': 2640, 'notice': 2585, 'sudden': 3778, 'decrease': 950, 'battery': 341, 'life': 2186, 'use': 4135, 'last': 2138, 'much': 2474, 'long': 2237, 'log': 2227, 'account': 17, 'say': 3393, 'lock': 2225, 'unlock': 4101, 'section': 3438, 'dashboard': 914, 'checkout': 618, 'navigate': 2515, 'page': 2716, 'review': 3312, 'troubleshooting': 4023, 'step': 3719, 'official': 2632, 'support': 3800, 'website': 4271, 'resolve': 3282, 'fix': 1438, 'price': 2956, 'sum': 3789, 'plus': 2873, 'name': 2503, 'try': 4031, 'clear': 664, 'cache': 517, 'datum': 918, 'app': 184, 'persist': 2799, 'quickly': 3111, 'text': 3890, 'change': 603, 'result': 3301, 'appear': 189, 'wrong': 4360, 'recently': 3169, 'update': 4120, 'firmware': 1425, 'start': 3698, 'happen': 1710, 'afterward': 85, 'could': 814, 'seller': 3450, 'buy': 506, 'someone': 3615, 'else': 1201, 'responsible': 3291, 'quality': 3102, 'return': 3308, 'unable': 4066, 'find': 1418, 'option': 2670, 'perform': 2791, 'desire': 996, 'action': 30, 'guide': 1685, 'also': 128, 'experience': 1316, 'bug': 492, 'inventory': 1958, 'count': 817, 'peculiar': 2774, 'error': 1262, 'message': 2370, 'pop': 2893, 'screen': 3423, 'mean': 2338, 'idea': 1829, 'establish': 1268, 'stable': 3684, 'internet': 1948, 'connection': 763, 'keep': 2081, 'disconnect': 1060, 'intermittently': 1944, 'troubleshoot': 4022, 'network': 2537, 'solution': 3611, 'follow': 1456, 'install': 1916, 'available': 289, 'software': 3608, 'none': 2574, 'personal': 2801, 'first': 1426, 'wuimap': 4363, 'three': 3933, 'instal': 1915, 'phone': 2817, 'gb': 1550, 'ram': 3127, 'specific': 3649, 'report': 3258, 'similar': 3552, 'sell': 3449, 'crazy': 840, 'fuzz': 1528, 'add': 45, 'cart': 557, 'strange': 3739, 'noise': 2567, 'function': 1517, 'properly': 3029, 'suspect': 3812, 'help': 1744, 'provide': 3042, 'good': 1637, 'knowledge': 2115, 'system': 3830, 'occur': 2621, 'recent': 3168, 'apology': 183, 'true': 4025, 'anyways': 176, 'next': 2546, 'week': 4274, 'probably': 2972, 'mind': 2402, 'new': 2540, 'multiple': 2476, 'version': 4192, 'ship': 3508, 'order': 2673, 'additional': 49, 'store': 3732, 'another': 167, 'online': 2652, 'retailer': 3304, 'cost': 810, 'refund': 3202, 'loss': 2245, 'damage': 898, 'cause': 571, 'rob': 3334, 'concerned': 741, 'security': 3441, 'would': 4352, 'like': 2189, 'ensure': 1241, 'data': 915, 'safe': 3367, 'cfg': 595, 'test': 3882, 'default': 953, 'auto': 282, 'testcase': 3883, 'config': 748, 'case': 560, 'seem': 3443, 'flicker': 1447, 'thought': 3931, 'accidentally': 13, 'delete': 965, 'important': 1860, 'way': 4262, 'recover': 3184, 'file': 1409, 'urgently': 4129, 'domain': 1109, 'worth': 4351, 'intermittent': 1943, 'sometimes': 3618, 'act': 29, 'unexpectedly': 4084, 'shut': 3533, 'afford': 82, 'directly': 1048, 'send': 3455, 'person': 2800, 'list': 2203, 'go': 1631, 'custom': 876, 'code': 691, 'etsy': 1274, 'share': 3498, 'suggestion': 3784, 'fill': 1411, 'form': 1472, 'already': 126, 'contact': 777, 'remain': 3231, 'unresolved': 4107, 'know': 2114, 'feel': 1394, 'enjoy': 1235, 'anything': 174, 'crash': 837, 'lose': 2244, 'lost': 2246, 'click': 667, 'documentation': 1107, 'topic': 3980, 'hlsb': 1771, 'place': 2846, 'note': 2581, 'original': 2683, 'charger': 609, 'come': 709, 'charge': 608, 'request': 3266, 'value': 4160, 'unit': 4095, 'people': 2783, 'assume': 247, 'understand': 4079, 'getting': 1581, 'pay': 2762, 'currency': 869, 'sorry': 3629, 'save': 3390, 'btc': 482, 'address': 52, 'incorrect': 1880, 'define': 956, 'cgfloat': 598, 'coo': 793, 'core': 801, 'endif': 1228, 'todo': 3966, 'active': 33, 'email': 1205, 'forget': 1468, 'password': 2746, 'reset': 3275, 'backup': 312, 'method': 2375, 'later': 2141, 'company': 722, 'agree': 92, 'look': 2238, 'willing': 4311, 'hard': 1712, 'money': 2448, 'appropriate': 200, 'create': 843, 'key': 2087, 'subscription': 3770, 'productid': 2989, 'mr': 2465, 'president': 2948, 'mcfarland': 2334, 'mention': 2361, 'user': 4138, 'manual': 2293, 'access': 9, 'display': 1077, 'invalid': 1957, 'credential': 847, 'even': 1278, 'though': 3930, 'correct': 805, 'login': 2231, 'information': 1895, 'regain': 3205, 'buyer': 507, 'tutorial': 4039, 'community': 721, 'forum': 1475, 'luck': 2257, 'far': 1368, 'difficult': 1034, 'receive': 3166, 'wait': 4240, 'info': 1893, 'panda': 2724, 'description': 988, 'win': 4312, 'able': 3, 'determine': 1006, 'several': 3485, 'thing': 3922, 'remove': 3241, 'appreciate': 196, 'take': 3844, 'believe': 366, 'sale': 3371, 'july': 2067, 'different': 1033, 'cable': 516, 'adapter': 41, 'peripheral': 2795, 'encounter': 1222, 'document': 1106, 'retrieve': 3305, 'huge': 1809, 'must': 2482, 'least': 2155, 'paypal': 2765, 'may': 2327, 'factory': 1351, 'hope': 1785, 'exact': 1289, 'type': 4054, 'prefer': 2932, 'get': 1569, 'event': 1280, 'back': 306, 'tell': 3874, 'suppose': 3801, 'bring': 469, 'supply': 3799, 'game': 1535, 'overhead': 2698, 'doorstep': 1117, 'today': 3965, 'rely': 3230, 'heavily': 1739, 'daily': 897, 'task': 3854, 'hinder': 1762, 'language': 2132, 'let': 2171, 'merely': 2366, 'speedy': 3655, 'answer': 168, 'meantime': 2341, 'include': 1874, 'feedback': 1393, 'drop': 1141, 'xanj': 4368, 'comcast': 707, 'net': 2533, 'post': 2906, 'box': 449, 'little': 2209, 'heavy': 1740, 'model': 2431, 'widespread': 4304, 'glitch': 1619, 'freeze': 1498, 'frequently': 1499, 'prevent': 2952, 'previous': 2954, 'line': 2195, 'fund': 1520, 'transfer': 4004, 'designated': 993, 'button': 505, 'pick': 2826, 'late': 2139, 'fast': 1371, 'since': 3558, 'setup': 3483, 'consistently': 771, 'feature': 1387, 'application': 193, 'unexpected': 4083, 'operational': 2664, 'div': 1090, 'productdetail': 2988, 'class': 659, 'detail': 1002, 'ul': 4064, 'li': 2177, 'brand': 454, 'span': 3643, 'everyone': 1285, 'state': 3702, 'discount': 1065, 'pga': 2810, 'top': 3979, 'view': 4196, 'field': 1405, 'dav': 920, 'id': 1828, 'verify': 4189, 'enable': 1220, 'javascript': 2014, 'browser': 477, 'current': 870, 'microsoft': 2386, 'edge': 1176, 'vnc': 4223, 'select': 3446, 'plugin': 2871, 'extract': 1339, 'yes': 4437, 'harry': 1716, 'lean': 2153, 'bit': 398, 'certainly': 590, 'set': 3475, 'fail': 1352, 'connect': 761, 'dns': 1099, 'server': 3473, 'run': 3356, 'link': 2196, 'https': 1807, 'kb': 2080, 'google': 1639, 'com': 704, 'reference': 3198, 'year': 4433, 'old': 2643, 'male': 2281, 'daughter': 919, 'mine': 2403, 'car': 546, 'less': 2169, 'expensive': 1315, 'expand': 1313, 'pricing': 2957, 'cloud': 676, 'base': 334, 'andrew': 154, 'still': 3725, 'end': 1225, 'special': 3647, 'pc': 2768, 'solve': 3613, 'thence': 3910, 'reach': 3145, 'honey': 1783, 'package': 2711, 'deliver': 969, 'recipient': 3172, 'delivery': 970, 'destination': 1000, 'notify': 2587, 'simply': 3556, 'restart': 3294, 'following': 1457, 'command': 712, 'happy': 1711, 'bill': 390, 'mina': 2401, 'mik': 2392, 'condition': 743, 'severity': 3486, 'pet': 2805, 'heal': 1732, 'call': 531, 'keto': 2085, 'lot': 2247, 'trouble': 4020, 'see': 3442, 'policy': 2887, 'vip': 4207, 'service': 3474, 'two': 4051, 'usd': 4134, 'alleghia': 116, 'al': 105, 'miss': 2413, 'wishlist': 4322, 'accept': 8, 'pledge': 2865, 'reliable': 3228, 'enter': 1242, 'however': 1795, 'payment': 2764, 'acknowledgment': 25, 'receipt': 3165, 'invoice': 1964, 'merchandise': 2364, 'disable': 1053, 'download': 1124, 'patch': 2751, 'center': 586, 'whereby': 4294, 'stitch': 3726, 'hip': 1764, 'virgo': 4211, 'voyager': 4230, 'series': 3468, 'vir': 4208, 'identifier': 1832, 'future': 1526, 'without': 4326, 'month': 2452, 'move': 2461, 'root': 3343, 'within': 4325, 'leave': 2156, 'carefully': 550, 'situation': 3568, 'forward': 1477, 'visit': 4214, 'shop': 3519, 'paulshoe': 2758, 'search': 3433, 'aspx': 236, 'penguin': 2780, 'process': 2978, 'separate': 3464, 'label': 2123, 'load': 2217, 'immediate': 1853, 'collect': 697, 'otherwise': 2689, 'break': 458, 'second': 3436, 'working': 4342, 'configuration': 749, 'valid': 4157, 'instruction': 1923, 'portion': 2898, 'unavailable': 4070, 'curse': 872, 'notempty': 2582, 'co': 687, 'ios': 1968, 'plug': 2870, 'admin': 56, 'stuff': 3760, 'kjrkkkkk': 2110, 'rkkkkkkk': 3332, 'non': 2573, 'sudoku': 3780, 'soreby': 3628, 'stock': 3727, 'moment': 2444, 'copy': 798, 'detect': 1005, 'kotaku': 2118, 'interested': 1939, 'east': 1163, 'slice': 3586, 'asian': 233, 'steemit': 3718, 'www': 4364, 'viewtopic': 4198, 'improve': 1863, 'ui': 4061, 'well': 4281, 'tweak': 4043, 'carry': 556, 'thread': 3932, 'ask': 234, 'shipping': 3510, 'alternatively': 135, 'hear': 1736, 'arrive': 222, 'really': 3158, 'excited': 1300, 'mail': 2271, 'something': 3616, 'json': 2057, 'right': 3328, 'either': 1192, 'consent': 768, 'purchaser': 3072, 'compensation': 726, 'fully': 1515, 'implement': 1857, 'blockchain': 413, 'advice': 72, 'never': 2539, 'infect': 1891, 'question': 3107, 'comment': 713, 'michael': 2380, 'choice': 629, 'warranty': 4254, 'void': 4224, 'shall': 3491, 'third': 3925, 'party': 2742, 'anywhere': 177, 'stick': 3723, 'boss': 439, 'brian': 461, 'jones': 2044, 'bjjones': 403, 'february': 1389, 'svccs': 3814, 'swift': 3821, 'collection': 698, 'billing': 391, 'tuxedo': 4040, 'io': 1967, 'home': 1780, 'wi': 4302, 'fi': 1404, 'although': 136, 'platform': 2853, 'touch': 3984, 'failure': 1354, 'br': 452, 'client': 668, 'chat': 614, 'cw': 890, 'cam': 533, 'fairly': 1357, 'recovery': 3186, 'opencv': 2659, 'wrapper': 4356, 'script': 3426, 'pretty': 2951, 'survey': 3809, 'http': 1805, 'protocol': 3037, 'awhile': 298, 'actually': 37, 'allow': 120, 'replace': 3253, 'bobby': 424, 'amazing': 140, 'doctor': 1103, 'part': 2737, 'tv': 4041, 'advertising': 71, 'around': 217, 'yumiomizaka': 4451, 'yumiomiz': 4450, 'os': 2687, 'apple': 190, 'high': 1758, 'ce': 583, 'scare': 3400, 'full': 1513, 'docker': 1101, 'gitter': 1608, 'advance': 65, 'business': 502, 'quick': 3110, 'round': 3347, 'track': 3994, 'begin': 359, 'donation': 1112, 'quantity': 3103, 'color': 699, 'bin': 392, 'bash': 335, 'known': 2116, 'raspberry': 3135, 'minute': 2410, 'incorrectly': 1881, 'main': 2272, 'demand': 972, 'thiseed': 3927, 'discord': 1064, 'gg': 1584, 'qeigfqzrr': 3091, 'retail': 3303, 'sort': 3630, 'apologize': 182, 'story': 3735, 'alex': 110, 'freelance': 1496, 'writer': 4358, 'passion': 2744, 'build': 495, 'microusb': 2387, 'port': 2896, 'inch': 1873, 'panel': 2725, 'tilt': 3946, 'front': 1504, 'play': 2854, 'country': 821, 'monday': 2446, 'th': 3891, 'june': 2069, 'unresponsive': 4108, 'notification': 2586, 'put': 3079, 'handle': 1706, 'private': 2969, 'setproduct': 3478, 'struct': 3753, 'register': 3210, 'whenever': 4293, 'early': 1160, 'example': 1292, 'remote': 3238, 'control': 786, 'tcp': 3860, 'packet': 2714, 'gameserver': 1540, 'nice': 2552, 'always': 138, 'usp': 4143, 'contain': 779, 'rd': 3144, 'many': 2299, 'weight': 4278, 'dimension': 1040, 'wallroad': 4246, 'tag': 3841, 'author': 276, 'zilp': 4461, 'deal': 936, 'scam': 3398, 'protect': 3035, 'direct': 1046, 'conflict': 753, 'advise': 74, 'power': 2916, 'kahneman': 2074, 'response': 3289, 'asap': 229, 'level': 2174, 'manufacturer': 2296, 'provider': 3043, 'confirm': 751, 'responsibility': 3290, 'transaction': 4002, 'complete': 729, 'prior': 2966, 'simple': 3554, 'via': 4193, 'portal': 2897, 'shoezapark': 3517, 'united': 4096, 'states': 3704, 'canada': 536, 'australia': 270, 'zealand': 4456, 'po': 2878, 'vancouver': 4164, 'embed': 1207, 'bar': 331, 'successfully': 3777, 'activate': 31, 'myjail': 2495, 'continue': 783, 'improved': 1864, 'simplify': 3555, 'handling': 1708, 'editing': 1178, 'pleased': 2860, 'video': 4195, 'azure': 300, 'tool': 3978, 'rv': 3361, 'xfcffcc': 4395, 'xf': 4394, 'belong': 367, 'input': 1905, 'suggest': 3783, 'demonstrate': 976, 'sudo': 3779, 'pwd': 3083, 'launch': 2142, 'press': 2949, 'menu': 2363, 'attempt': 258, 'workaround': 4339, 'rating': 3138, 'automatically': 285, 'stop': 3730, 'choose': 630, 'restore': 3299, 'direction': 1047, 'kg': 2094, 'rice': 3322, 'empty': 1217, 'china': 626, 'currently': 871, 'false': 1361, 'size': 3570, 'gift': 1594, 'card': 547, 'starbuck': 3696, 'upgrade': 4122, 'theolia': 3913, 'amazon': 141, 'become': 356, 'ip': 1970, 'variety': 4168, 'intuitive': 1955, 'interface': 1941, 'advantage': 67, 'talk': 3847, 'valve': 4162, 'mode': 2430, 'steam': 3714, 'annotation': 159, 'distribute': 1084, 'recall': 3164, 'cutlip': 887, 'owner': 2704, 'de': 933, 'uk': 4063, 'ireland': 1979, 'italy': 1993, 'luxembourg': 2262, 'spain': 3641, 'nothing': 2583, 'completely': 730, 'exceptional': 1297, 'duplicate': 1151, 'absolutely': 6, 'delightful': 968, 'emote': 1213, 'monkey': 2451, 'roll': 3340, 'inconvenience': 1879, 'friend': 1502, 'ever': 1281, 'love': 2249, 'sweet': 3818, 'sweetest': 3820, 'category': 568, 'camera': 534, 'local': 2222, 'ago': 91, 'done': 1113, 'rep': 3248, 'navigation': 2516, 'apply': 194, 'filter': 1412, 'dhcp': 1019, 'reply': 3256, 'edit': 1177, 'poster': 2907, 'dredd': 1135, 'router': 3348, 'regularly': 3213, 'web': 4265, 'regard': 3206, 'posting': 2908, 'questioner': 3108, 'complain': 727, 'badam': 315, 'date': 917, 'format': 1473, 'wb': 4263, 'league': 2151, 'playback': 2855, 'recommend': 3178, 'pregnant': 2937, 'woman': 4332, 'whose': 4301, 'pregnancy': 2936, 'likely': 2190, 'age': 86, 'shelter': 3502, 'house': 1793, 'man': 2286, 'immune': 1855, 'outside': 2696, 'world': 4343, 'vendor': 4182, 'restriction': 3300, 'subscribe': 3768, 'confirmation': 752, 'thereomicc': 3916, 'site': 3567, 'significant': 3547, 'prime': 2961, 'tier': 3942, 'isp': 1989, 'oracle': 2672, 'wonder': 4333, 'glad': 1615, 'write': 4357, 'left': 2158, 'inform': 1894, 'yet': 4439, 'course': 825, 'disqus': 1079, 'external': 1337, 'drive': 1138, 'samsung': 3376, 'screenshot': 3424, 'standard': 3693, 'component': 734, 'prevention': 2953, 'php': 2821, 'deprecate': 983, 'anymore': 172, 'exist': 1311, 'listing': 2205, 'credit': 848, 'paul': 2757, 'polite': 2889, 'aggressive': 89, 'banner': 330, 'unique': 4094, 'shelf': 3501, 'metadata': 2373, 'goal': 1632, 'dec': 943, 'cash': 562, 'release': 3226, 'debit': 940, 'cs': 858, 'conn': 760, 'mb': 2329, 'extra': 1338, 'table': 3834, 'meet': 2354, 'reject': 3219, 'purpose': 3075, 'oop': 2657, 'veejay': 4178, 'premium': 2940, 'member': 2357, 'join': 2042, 'secure': 3439, 'explosive': 1330, 'curl': 868, 'api': 180, 'sli': 3585, 'avatar': 290, 'xnuxejlhs': 4411, 'pqcv': 2923, 'obtain': 2618, 'frustrating': 1508, 'computer': 737, 'immediately': 1854, 'enormous': 1237, 'structure': 3754, 'technique': 3866, 'republish': 3264, 'appdeck': 187, 'guess': 1683, 'descriptionocolor': 989, 'ingredient': 1898, 'vacation': 4154, 'blue': 417, 'pair': 2721, 'chen': 620, 'director': 1049, 'marketing': 2309, 'communication': 720, 'gfk': 1583, 'point': 2883, 'associate': 244, 'somebody': 3614, 'spectrum': 3653, 'approach': 199, 'glamorous': 1617, 'per': 2786, 'research': 3271, 'url': 4130, 'browse': 476, 'window': 4313, 'vista': 4216, 'manager': 2289, 'emergency': 1210, 'exactly': 1290, 'every': 1282, 'rebate': 3162, 'enough': 1238, 'cover': 829, 'meal': 2337, 'maybe': 2328, 'netflix': 2535, 'trick': 4015, 'chrome': 633, 'extension': 1334, 'san': 3378, 'sans': 3380, 'beta': 376, 'jbl': 2016, 'group': 1676, 'proud': 3039, 'extensive': 1335, 'assortment': 246, 'amount': 148, 'certain': 589, 'specify': 3652, 'gustafsson': 1688, 'sincerely': 3560, 'windows': 4314, 'gmail': 1626, 'dot': 1118, 'facebook': 1347, 'arrange': 218, 'property': 3030, 'potionpotion': 2912, 'attach': 254, 'ec': 1170, 'refer': 3197, 'hold': 1777, 'cody': 692, 'utc': 4150, 'hour': 1792, 'st': 3682, 'september': 3466, 'participate': 2739, 'news': 2544, 'affiliate': 81, 'privacy': 2968, 'alicorn': 114, 'common': 718, 'match': 2316, 'packaging': 2712, 'afraid': 83, 'picture': 2828, 'incomplete': 1877, 'aware': 295, 'pin': 2833, 'twitter': 4050, 'easter': 1164, 'en': 1219, 'us': 4131, 'summon': 3793, 'ready': 3152, 'popular': 2894, 'status': 3706, 'typical': 4055, 'console': 772, 'spot': 3665, 'desk': 997, 'night': 2557, 'matt': 2322, 'emc': 1209, 'isnotbillingformatte': 1986, 'getproductpurchasename': 1580, 'overview': 2702, 'describe': 987, 'show': 3530, 'buckle': 488, 'difference': 1032, 'authorization': 278, 'dictionary': 1030, 'reason': 3159, 'spirit': 3661, 'trust': 4029, 'express': 1332, 'pleasure': 2864, 'light': 2188, 'stand': 3692, 'sometime': 3617, 'zombiecobra': 4466, 'coupon': 823, 'exhaust': 1309, 'pipe': 2837, 'leak': 2152, 'hot': 1790, 'membership': 2359, 'ben': 369, 'avoid': 294, 'decide': 946, 'ssh': 3679, 'column': 702, 'wepi': 4284, 'username': 4141, 'english': 1234, 'cancel': 538, 'thanx': 3894, 'additem': 47, 'var': 4167, 'getattribute': 1570, 'confusing': 757, 'concern': 740, 'mission': 2415, 'fight': 1407, 'fake': 1358, 'sign': 3546, 'xs': 4416, 'relationship': 3223, 'htc': 1801, 'dedicate': 951, 'big': 389, 'fan': 1364, 'eos': 1252, 'total': 3982, 'github': 1606, 'dismay': 1075, 'sound': 3636, 'pride': 2958, 'electronic': 1197, 'supplier': 3798, 'august': 268, 'frustration': 1509, 'enquiry': 1239, 'ch': 599, 'html': 1803, 'audio': 265, 'bathroom': 340, 'barb': 332, 'shame': 3492, 'bvqej': 511, 'watch': 4258, 'purchas': 3067, 'quote': 3116, 'sierra': 3544, 'leaf': 2150, 'fit': 1432, 'perfectly': 2790, 'project': 3018, 'deadline': 935, 'consider': 769, 'refresh': 3201, 'mycli': 2488, 'org': 2679, 'detailed': 1003, 'symphony': 3826, 'airwave': 99, 'air': 98, 'bbc': 348, 'newegg': 2543, 'marketplace': 2310, 'llc': 2214, 'portland': 2899, 'raffle': 3123, 'female': 1398, 'bunch': 497, 'water': 4260, 'netcore': 2534, 'cooperation': 796, 'summary': 3791, 'december': 944, 'icloud': 1825, 'expect': 1314, 'est': 1267, 'modified': 2437, 'discontinue': 1063, 'recoverable': 3185, 'database': 916, 'flash': 1444, 'player': 2856, 'dealer': 937, 'prompt': 3024, 'icon': 1826, 'source': 3637, 'hp': 1797, 'chromebook': 634, 'successful': 3776, 'commit': 716, 'broken': 473, 'writing': 4359, 'curious': 867, 'shopping': 3523, 'manyheat': 2300, 'query': 3106, 'savage': 3389, 'stave': 3708, 'red': 3190, 'velvet': 4181, 'washingtonpost': 4256, 'politic': 2890, 'government': 1648, 'pack': 2710, 'purchasing': 3073, 'filedetail': 1410, 'freedesktop': 1495, 'productname': 2998, 'cent': 585, 'spend': 3658, 'remainder': 3232, 'unsubscribe': 4113, 'opt': 2667, 'prepare': 2943, 'engineer': 1233, 'black': 406, 'connectivity': 764, 'usually': 4148, 'panic': 2726, 'mobile': 2426, 'android': 155, 'smart': 3597, 'cookie': 794, 'theless': 3907, 'fact': 1350, 'bad': 314, 'ikea': 1846, 'minor': 2408, 'restatement': 3295, 'guarantee': 1682, 'purchai': 3066, 'purchauge': 3074, 'goodmvc': 1638, 'rule': 3355, 'visual': 4217, 'pipework': 2839, 'blog': 416, 'darl': 911, 'stanton': 3694, 'founder': 1481, 'editor': 1180, 'pocket': 2880, 'sized': 3571, 'book': 430, 'profile': 3013, 'zoe': 4464, 'ramos': 3128, 'sotvec': 3634, 'okay': 2641, 'grey': 1672, 'baby': 303, 'slime': 3591, 'submit': 3766, 'couch': 813, 'promise': 3020, 'food': 1460, 'costco': 811, 'accord': 15, 'spendy': 3659, 'schuster': 3415, 'interest': 1938, 'prod': 2982, 'necessary': 2524, 'laptop': 2134, 'usb': 4133, 'consumer': 776, 'coconut': 690, 'oil': 2639, 'whole': 4299, 'large': 2135, 'organic': 2680, 'supermarket': 3797, 'couple': 822, 'area': 210, 'guy': 1690, 'style': 3763, 'margin': 2305, 'simon': 3553, 'south': 3638, 'london': 2236, 'danielmcdaniel': 905, 'xsd': 4417, 'vastly': 4172, 'increase': 1882, 'difficulty': 1035, 'reporting': 3259, 'india': 1885, 'hownewsletter': 1796, 'unknown': 4098, 'npm': 2592, 'kip': 2104, 'shift': 3503, 'outcome': 2690, 'theshelter': 3917, 'litcoin': 2206, 'confidence': 746, 'aspiration': 235, 'perfect': 2789, 'pilot': 2832, 'nd': 2519, 'ghost': 1588, 'raiddean': 3124, 'yosemite': 4444, 'schedule': 3407, 'explain': 1325, 'complaint': 728, 'allegedly': 115, 'beat': 352, 'police': 2886, 'pune': 3064, 'cycle': 892, 'single': 3563, 'legally': 2160, 'deposit': 982, 'shipment': 3509, 'therefore': 3915, 'mscms': 2468, 'dll': 1094, 'driver': 1139, 'attribute': 262, 'recommendation': 3179, 'apt': 206, 'bricklot': 465, 'mongolia': 2449, 'equivalent': 1257, 'acquisition': 27, 'static': 3705, 'mess': 2369, 'progress': 3016, 'ability': 2, 'upload': 4123, 'photo': 2818, 'logout': 2234, 'eric': 1258, 'investigate': 1961, 'outpouring': 2694, 'elder': 1194, 'scroll': 3427, 'resource': 3284, 'suitable': 3787, 'booking': 431, 'provincial': 3044, 'rezvxgxmf': 3320, 'jim': 2030, 'collab': 696, 'bother': 442, 'oem': 2627, 'viral': 4209, 'lawyer': 2146, 'wifi': 4308, 'pulse': 3062, 'java': 2013, 'machine': 2266, 'vincent': 4201, 'fuyo': 1527, 'kind': 2100, 'bus': 501, 'binding': 394, 'dimensionalwarfare': 1042, 'steal': 3713, 'anon': 165, 'matter': 2324, 'skill': 3575, 'qtcoreunapi': 3100, 'wn': 4331, 'cn': 686, 'intentional': 1935, 'cloudflare': 677, 'mycologne': 2489, 'pr': 2925, 'settl': 3481, 'predator': 2930, 'puuuu': 3080, 'sh': 3490, 'aj': 100, 'team': 3863, 'inadvertently': 1869, 'neon': 2531, 'vitality': 4219, 'verm': 4190, 'volume': 4226, 'together': 3967, 'north': 2580, 'america': 144, 'nintendo': 2561, 'ds': 1144, 'xl': 4406, 'allotted': 119, 'location': 2224, 'almost': 121, 'appointment': 195, 'discovery': 1068, 'duty': 1154, 'anyone': 173, 'production': 2992, 'environment': 1251, 'miami': 2379, 'john': 2039, 'live': 2210, 'california': 530, 'major': 2277, 'celebrity': 584, 'bottom': 444, 'exchange': 1299, 'loud': 2248, 'inquiry': 1909, 'bottle': 443, 'confuse': 755, 'whether': 4295, 'effort': 1187, 'prefetch': 2934, 'object': 2614, 'mac': 2264, 'osx': 2688, 'getproductinfo': 1578, 'manufacturerid': 2297, 'favourite': 1378, 'graft': 1652, 'debug': 941, 'fml': 1451, 'locate': 2223, 'mcmod': 2335, 'mike': 2393, 'row': 3349, 'thanks': 3892, 'countermark': 819, 'derek': 986, 'coatlassian': 689, 'clean': 662, 'corner': 803, 'finish': 1421, 'promisation': 3019, 'flavor': 1446, 'mango': 2290, 'shannon': 3495, 'pear': 2772, 'noodles': 2575, 'bananas': 325, 'dessert': 999, 'byte': 514, 'digit': 1036, 'string': 3748, 'pass': 2743, 'output': 2695, 'mar': 2302, 'cluster': 679, 'close': 673, 'developer': 1010, 'vsl': 4233, 'bxc': 512, 'abroad': 5, 'parameter': 2732, 'annoying': 163, 'normally': 2579, 'brianna': 463, 'rva': 3362, 'systems': 3832, 'inc': 1872, 'senior': 3457, 'designer': 994, 'caitlin': 522, 'jelena': 2020, 'huffingtonpost': 1808, 'fistofcreeper': 1431, 'characteristic': 607, 'present': 2947, 'thenuil': 3912, 'pinter': 2836, 'hash': 1718, 'hf': 1753, 'arrival': 221, 'short': 3525, 'term': 3878, 'low': 2250, 'middle': 2388, 'viewer': 4197, 'youtu': 4447, 'bhxnfoluo': 386, 'assault': 238, 'theft': 3903, 'minimum': 2407, 'null': 2600, 'remedie': 3233, 'proper': 3028, 'license': 2183, 'whatever': 4290, 'vehicle': 4179, 'mathematization': 2321, 'anonymous': 166, 'caller': 532, 'startup': 3700, 'bag': 316, 'slightly': 3590, 'girl': 1602, 'girlfriend': 1603, 'figure': 1408, 'understanding': 4080, 'addition': 48, 'human': 1810, 'lsm': 2254, 'lg': 2176, 'adblocker': 44, 'word': 4336, 'hacker': 1697, 'dir': 1045, 'ltr': 2256, 'reasonable': 3160, 'chance': 602, 'beginning': 360, 'import': 1859, 'rest': 3293, 'quite': 3115, 'cydia': 893, 'isinstance': 1984, 'productmanager': 2997, 'producer': 2984, 'ifdef': 1838, 'con': 739, 'stuck': 3757, 'image': 1850, 'enrol': 1240, 'staff': 3688, 'productkey': 2995, 'family': 1363, 'investigation': 1962, 'colour': 700, 'brown': 475, 'matte': 2323, 'faq': 1366, 'copyright': 800, 'commercial': 715, 'attribution': 263, 'statement': 3703, 'past': 2747, 'priority': 2967, 'alert': 109, 'remedy': 3234, 'ethernet': 1273, 'fa': 1344, 'foo': 1459, 'technical': 3865, 'instance': 1919, 'permission': 2797, 'board': 423, 'greatly': 1666, 'donate': 1111, 'cafe': 519, 'crave': 839, 'diagram': 1023, 'heart': 1737, 'warn': 4251, 'xb': 4370, 'ad': 38, 'xx': 4421, 'entirety': 1246, 'represent': 3261, 'constitute': 774, 'representative': 3262, 'combine': 706, 'bugfix': 493, 'tab': 3833, 'basket': 338, 'tomb': 3973, 'raider': 3125, 'pull': 3061, 'att': 253, 'interview': 1950, 'listen': 2204, 'podcast': 2881, 'discuss': 1070, 'limitation': 2193, 'basis': 337, 'remy': 3242, 'txt': 4052, 'fee': 1391, 'march': 2304, 'fuser': 1525, 'awesome': 297, 'vpn': 4231, 'manually': 2294, 'toy': 3992, 'urgency': 4127, 'clarification': 656, 'reddit': 3191, 'dialog': 1025, 'buynow': 509, 'onclick': 2648, 'buyprice': 510, 'bundle': 498, 'userdata': 4140, 'nova': 2589, 'terminal': 3879, 'rate': 3136, 'content': 781, 'toggle': 3968, 'individual': 1888, 'heading': 1730, 'cdt': 582, 'akshay': 104, 'mistry': 2418, 'york': 4442, 'aka': 103, 'title': 3957, 'distributor': 1087, 'serial': 3467, 'bonus': 429, 'hearthstone': 1738, 'hero': 1749, 'internationally': 1947, 'discrepancy': 1069, 'behind': 364, 'hassle': 1719, 'flickering': 1448, 'involve': 1965, 'clearly': 665, 'indicate': 1886, 'office': 2630, 'worker': 4340, 'la': 2122, 'headache': 1727, 'iphone': 1972, 'summer': 3792, 'especially': 1265, 'plate': 2852, 'metal': 2374, 'bracket': 453, 'removal': 3240, 'boot': 435, 'yandex': 4429, 'sdk': 3430, 'hover': 1794, 'nexusmod': 2548, 'skyrim': 3579, 'mod': 2428, 'satisfaction': 3385, 'ifferentium': 1839, 'finally': 1414, 'debut': 942, 'hmm': 1772, 'themn': 3909, 'href': 1799, 'hobbystrap': 1773, 'categoryname': 569, 'related': 3221, 'vote': 4227, 'lan': 2128, 'bind': 393, 'amethystcoin': 146, 'fbe': 1380, 'tracking': 3996, 'array': 219, 'range': 3132, 'drainage': 1132, 'accuse': 19, 'fire': 1422, 'hammer': 1704, 'voucher': 4228, 'instant': 1920, 'wine': 4315, 'cite': 648, 'helpful': 1745, 'excellent': 1294, 'husband': 1817, 'patient': 2754, 'arise': 215, 'battleground': 343, 'nicobike': 2554, 'etc': 1270, 'pro': 2971, 'professional': 3011, 'sop': 3627, 'morning': 2454, 'kickstarter': 2097, 'super': 3796, 'solar': 3609, 'force': 1464, 'pain': 2717, 'arse': 224, 'migafilmedic': 2389, 'care': 548, 'dispute': 1078, 'reviewer': 3313, 'ipod': 1973, 'atom': 252, 'mp': 2464, 'yay': 4431, 'regular': 3212, 'fixing': 1439, 'sacrifice': 3366, 'harrym': 1717, 'april': 205, 'irresponsible': 1982, 'forgot': 1469, 'rather': 3137, 'alter': 131, 'skype': 3578, 'sk': 3574, 'unfortunately': 4087, 'naturallian': 2510, 'spread': 3667, 'subject': 3765, 'plan': 2849, 'josh': 2046, 'jared': 2010, 'steve': 3722, 'mygolf': 2493, 'timothy': 3949, 'promo': 3021, 'subsequent': 3771, 'profit': 3014, 'cheap': 615, 'proof': 3026, 'numerous': 2603, 'occasion': 2620, 'fellow': 1397, 'fpler': 1484, 'rssfeed': 3353, 'aeg': 76, 'tac': 3837, 'manufacture': 2295, 'ahead': 95, 'msg': 2470, 'zoom': 4468, 'achieve': 23, 'stay': 3709, 'maintain': 2275, 'heck': 1741, 'availability': 288, 'unlocked': 4102, 'steampowered': 3717, 'promotion': 3022, 'promotional': 3023, 'refundable': 3203, 'applicable': 192, 'ebay': 1168, 'nc': 2518, 'eligible': 1199, 'inaccurate': 1867, 'faulty': 1374, 'tue': 4034, 'feb': 1388, 'cet': 592, 'purchasable': 3068, 'cartitemstocart': 558, 'cre': 841, 'management': 2288, 'uninstall': 4091, 'inquire': 1908, 'imac': 1849, 'dangerous': 903, 'discard': 1057, 'lethally': 2172, 'vbulletin': 4174, 'reserve': 3274, 'financially': 1417, 'american': 145, 'settimeout': 3479, 'regional': 3209, 'actual': 36, 'pam': 2722, 'bensound': 373, 'hell': 1743, 'broadcaster': 472, 'wkbnb': 4329, 'gggg': 1585, 'alexa': 111, 'fulfillment': 1512, 'patience': 2753, 'logistic': 2232, 'benefit': 371, 'devolve': 1014, 'kid': 2098, 'authenticator': 275, 'various': 4169, 'region': 3208, 'dozen': 1127, 'jar': 2009, 'fall': 1359, 'def': 952, 'init': 1901, 'self': 3448, 'peelpane': 2776, 'ian': 1824, 'cheong': 621, 'qualify': 3101, 'annual': 164, 'xxl': 4422, 'xlsl': 4407, 'missing': 2414, 'merchant': 2365, 'functionality': 1519, 'optional': 2671, 'font': 1458, 'youtube': 4448, 'modify': 2438, 'jul': 2063, 'hodysg': 1776, 'compare': 723, 'resident': 3279, 'ref': 3196, 'productman': 2996, 'ipv': 1977, 'usa': 4132, 'exception': 1296, 'regardless': 3207, 'redirect': 3194, 'installation': 1917, 'src': 3674, 'scope': 3418, 'block': 412, 'typo': 4057, 'assure': 248, 'trevor': 4012, 'vivian': 4221, 'lance': 2129, 'officer': 2631, 'plain': 2848, 'lazy': 2148, 'stupidity': 3761, 'pink': 2835, 'gaming': 1541, 'qyfmvxjys': 3118, 'pic': 2825, 'xwfgdngvgw': 4420, 'chromecast': 635, 'head': 1726, 'downstairs': 1125, 'taxis': 3858, 'export': 1331, 'unless': 4099, 'openssl': 2661, 'ssl': 3680, 'certificate': 591, 'reconnect': 3180, 'joeyclay': 2038, 'sender': 3456, 'hackerteam': 1699, 'pico': 2827, 'compatible': 724, 'combination': 705, 'wide': 4303, 'fault': 1373, 'legal': 2159, 'identify': 1833, 'nexus': 2547, 'permanent': 2796, 'vape': 4165, 'baltique': 322, 'seal': 3432, 'learn': 2154, 'dan': 900, 'acheson': 22, 'acharson': 21, 'param': 2731, 'psql': 3051, 'mysql': 2498, 'actively': 34, 'easy': 1166, 'shortly': 3527, 'transit': 4005, 'issuer': 1990, 'enterprise': 1243, 'signify': 3548, 'potential': 2909, 'inappropriate': 1870, 'serve': 3472, 'joke': 2043, 'opinion': 2665, 'confused': 756, 'mcc': 2330, 'equal': 1254, 'struggle': 3756, 'wanna': 4248, 'throne': 3935, 'gameofthrone': 1537, 'october': 2624, 'europe': 1276, 'belgium': 365, 'disc': 1056, 'lizzie': 2212, 'imgur': 1852, 'switch': 3823, 'gert': 1568, 'lizziekrkk': 2213, 'frag': 1486, 'digital': 1037, 'prize': 2970, 'except': 1295, 'alternate': 133, 'dia': 1021, 'jpg': 2051, 'cmerga': 683, 'cross': 855, 'implementation': 1858, 'ssp': 3681, 'eharmony': 1189, 'strongly': 3752, 'obama': 2612, 'administration': 57, 'ppc': 2921, 'library': 2182, 'functional': 1518, 'hand': 1705, 'addon': 51, 'grade': 1651, 'karp': 2076, 'markkarp': 2311, 'gavin': 1549, 'andresen': 153, 'financial': 1416, 'familiar': 1362, 'bert': 374, 'folder': 1454, 'warehouse': 4250, 'genius': 1562, 'hurt': 1816, 'truth': 4030, 'darkduckdog': 908, 'job': 2034, 'node': 2565, 'vsphere': 4234, 'wireless': 4319, 'packagingid': 2713, 'integrate': 1929, 'upcoming': 4119, 'webmaster': 4268, 'webster': 4272, 'spencer': 3657, 'smith': 3601, 'katherine': 2078, 'lee': 2157, 'jason': 2012, 'adobe': 61, 'premiere': 2939, 'program': 3015, 'backordere': 311, 'disabled': 1054, 'period': 2793, 'dmr': 1095, 'sellouti': 3454, 'exceritie': 1298, 'entity': 1247, 'authorize': 279, 'specified': 3651, 'modem': 2433, 'insurance': 1924, 'dealership': 938, 'partner': 2741, 'defective': 955, 'tampa': 3848, 'fl': 1441, 'toll': 3971, 'occurs': 2622, 'entry': 1249, 'scenario': 3404, 'funny': 1521, 'vector': 4177, 'pbe': 2766, 'xdfacca': 4383, 'verbose': 4186, 'idle': 1835, 'cad': 518, 'manage': 2287, 'identity': 1834, 'courtesy': 827, 'hereby': 1747, 'reader': 3148, 'publication': 3057, 'remotely': 3239, 'involvement': 1966, 'gist': 1604, 'bbaacedfdcd': 347, 'favorite': 1377, 'creative': 845, 'fork': 1471, 'mozilla': 2463, 'reflect': 3199, 'toward': 3990, 'couldciation': 815, 'downgrade': 1123, 'beneath': 370, 'thehacker': 3905, 'hey': 1751, 'thegamer': 3904, 'ret': 3302, 'boolean': 434, 'pw': 3081, 'mt': 2473, 'olive': 2645, 'green': 1667, 'element': 1198, 'fails': 1353, 'htmldatahelper': 1804, 'half': 1703, 'chillo': 624, 'confusion': 758, 'irc': 1978, 'channel': 604, 'px': 3085, 'cri': 849, 'development': 1012, 'myflavor': 2492, 'gizmodo': 1612, 'damaged': 899, 'nsx': 2597, 'ns': 2595, 'err': 1261, 'sense': 3458, 'nearly': 2522, 'james': 2003, 'kyle': 2121, 'knight': 2113, 'cms': 685, 'adam': 39, 'clarify': 657, 'stacktrace': 3687, 'potion': 2911, 'pined': 2834, 'mushroom': 2479, 'loading': 2220, 'ps': 3047, 'vita': 4218, 'gouz': 1646, 'bitcoin': 400, 'furniture': 1523, 'gnome': 1630, 'addressing': 53, 'materia': 2318, 'depend': 981, 'capability': 544, 'procedure': 2976, 'reward': 3316, 'guideline': 1686, 'advisable': 73, 'stdio': 3712, 'print': 2962, 'generate': 1559, 'logfile': 2228, 'oxcel': 2706, 'claim': 655, 'testing': 3887, 'batch': 339, 'medical': 2351, 'eye': 1342, 'monitor': 2450, 'myverifiedcompany': 2501, 'mycompany': 2490, 'critical': 854, 'tacastyle': 3838, 'virgin': 4210, 'tale': 3846, 'restock': 3297, 'redeem': 3192, 'record': 3182, 'imsc': 1866, 'ms': 2467, 'gear': 1553, 'missionasty': 2416, 'trademark': 3998, 'originally': 2684, 'friday': 1501, 'opportunity': 2666, 'orfar': 2678, 'exceed': 1293, 'mrs': 2466, 'clark': 658, 'dacb': 895, 'onto': 2656, 'insure': 1925, 'timely': 3948, 'manner': 2292, 'rid': 3324, 'mainstream': 2274, 'firewall': 1424, 'shopowner': 3521, 'recognize': 3176, 'dr': 1129, 'seemingly': 3444, 'impressed': 1862, 'design': 992, 'definitely': 958, 'getelementbyid': 1573, 'length': 2167, 'xbox': 4373, 'reinstall': 3218, 'honest': 1782, 'fishery': 1430, 'conjunction': 759, 'amd': 143, 'radeon': 3121, 'tow': 3989, 'trunk': 4028, 'sms': 3603, 'buying': 508, 'baconchicken': 313, 'consideration': 770, 'lumia': 2260, 'bank': 329, 'income': 1876, 'upfront': 4121, 'fedex': 1390, 'xcode': 4376, 'tait': 3842, 'wallet': 4245, 'beautiful': 353, 'accessory': 11, 'tech': 3864, 'fulfil': 1511, 'thatproxysize': 3896, 'proxy': 3045, 'qrsplen': 3098, 'proceed': 2977, 'qr': 3097, 'push': 3078, 'recipeloader': 3171, 'forge': 1467, 'recipe': 3170, 'loader': 2219, 'curseforge': 873, 'isolated': 1988, 'gp': 1649, 'bjqhglw': 404, 'psc': 3048, 'brick': 464, 'ghlf': 1587, 'eeb': 1183, 'ffdbb': 1402, 'dropbox': 1142, 'separately': 3465, 'estimate': 1269, 'trucular': 4024, 'attacker': 257, 'battle': 342, 'dragon': 1131, 'worry': 4350, 'ubuntu': 4059, 'lt': 2255, 'forgott': 1470, 'avinforgott': 293, 'xlsmoderator': 4408, 'scheduler': 3409, 'herein': 1748, 'newsletter': 2545, 'piece': 2829, 'glass': 1618, 'cleaning': 663, 'cut': 885, 'newbie': 2542, 'messy': 2371, 'eq': 1253, 'administrator': 58, 'wish': 4321, 'unimportant': 4090, 'unverifiable': 4116, 'rework': 3317, 'extremely': 1341, 'chef': 619, 'faqs': 1367, 'elderly': 1195, 'mother': 2455, 'four': 1483, 'seattle': 3434, 'reside': 3277, 'ohio': 2636, 'parentnode': 2735, 'sinead': 3561, 'connor': 766, 'sineadod': 3562, 'taylor': 3859, 'outline': 2693, 'paw': 2761, 'contactme': 778, 'mojang': 2441, 'pre': 2927, 'statute': 3707, 'requirement': 3270, 'general': 1557, 'stat': 3701, 'tomorrow': 3975, 'nj': 2563, 'hackerdorks': 1698, 'hackerware': 1700, 'customerservice': 878, 'joe': 2037, 'baker': 318, 'repeat': 3252, 'terrible': 3880, 'frame': 1488, 'subsidized': 3773, 'protection': 3036, 'weston': 4288, 'mec': 2343, 'mobilegrouper': 2427, 'firstly': 1427, 'differ': 1031, 'vox': 4229, 'white': 4296, 'everyday': 1284, 'ipad': 1971, 'citation': 647, 'mixed': 2421, 'alright': 127, 'balance': 319, 'japan': 2006, 'approval': 201, 'observa': 2616, 'hide': 1755, 'integer': 1928, 'xd': 4377, 'printer': 2963, 'grankirby': 1657, 'blob': 411, 'master': 2315, 'verification': 4188, 'agreement': 93, 'mechemeche': 2346, 'solutionestead': 3612, 'pl': 2845, 'daniel': 904, 'graphic': 1660, 'moderate': 2434, 'arial': 214, 'sintra': 3564, 'courier': 824, 'nav': 2513, 'navbar': 2514, 'footer': 1462, 'img': 1851, 'cdn': 580, 'reckon': 3173, 'clydesdatter': 680, 'telegram': 3872, 'limited': 2194, 'fla': 1442, 'ann': 158, 'jf': 2029, 'poor': 2892, 'employee': 1216, 'thoroughly': 3928, 'runtime': 3358, 'shiver': 3513, 'fitting': 1436, 'sufficient': 3781, 'context': 782, 'remember': 3235, 'bot': 441, 'izzy': 2001, 'iglvzx': 1841, 'affected': 80, 'tkpanel': 3959, 'fetch': 1399, 'arduino': 209, 'wednesday': 4273, 'vary': 4170, 'สสท': 4471, 'ลาาง': 4470, 'คมท': 4469, 'ange': 156, 'execute': 1308, 'alongside': 124, 'japanese': 2007, 'yen': 4435, 'easily': 1162, 'customizing': 884, 'advanced': 66, 'xrzep': 4415, 'finance': 1415, 'parent': 2734, 'child': 623, 'spouse': 3666, 'wife': 4307, 'xda': 4378, 'janimo': 2004, 'override': 2699, 'oncreatemobileuser': 2649, 'int': 1927, 'insert': 1911, 'nigeria': 2556, 'million': 2398, 'installer': 1918, 'commerce': 714, 'assign': 240, 'subscriber': 3769, 'adb': 42, 'sideloading': 3543, 'caption': 545, 'proclaim': 2981, 'forever': 1466, 'effective': 1186, 'dead': 934, 'lack': 2125, 'nmms': 2564, 'msm': 2471, 'dotable': 1120, 'sbc': 3394, 'carmichael': 552, 'miller': 2397, 'carmichaelmilberg': 553, 'dark': 907, 'instruct': 1922, 'wikipedia': 4310, 'wiki': 4309, 'revert': 3311, 'spec': 3646, 'exclusive': 1304, 'legitimate': 2165, 'approve': 202, 'bpa': 450, 'trash': 4008, 'glove': 1623, 'lion': 2200, 'marker': 2307, 'greeting': 1669, 'ineradicable': 1890, 'servant': 3471, 'witcher': 4323, 'esp': 1264, 'informed': 1897, 'discussion': 1071, 'welcome': 4280, 'reauthorise': 3161, 'convert': 790, 'png': 2876, 'oct': 2623, 'budget': 491, 'keyring': 2090, 'suppresswarning': 3802, 'warning': 4252, 'score': 3419, 'redesign': 3193, 'cajal': 523, 'logo': 2233, 'gateway': 1546, 'tuesday': 4035, 'eastern': 1165, 'srs': 3676, 'edition': 1179, 'conquest': 767, 'thenewworldorderarchive': 3911, 'patreon': 2755, 'warrant': 4253, 'davidwong': 924, 'sullivan': 3788, 'mikeo': 2394, 'january': 2005, 'tweet': 4045, 'shane': 3494, 'blocker': 414, 'useful': 4137, 'particular': 2740, 'accessible': 10, 'usrp': 4146, 'spam': 3642, 'discoverablevista': 1067, 'processing': 2979, 'photoshop': 2820, 'libav': 2181, 'decode': 949, 'header': 1729, 'rehabene': 3215, 'relevant': 3227, 'hair': 1701, 'professionally': 3012, 'hairpiece': 1702, 'tedious': 3869, 'expire': 1322, 'scheduled': 3408, 'violent': 4206, 'productpurchase': 3002, 'vllo': 4222, 'sizing': 3572, 'presto': 2950, 'cdnjs': 581, 'ajax': 102, 'lib': 2180, 'js': 2056, 'zombii': 4467, 'pleasantly': 2858, 'creator': 846, 'accident': 12, 'emily': 1211, 'apparently': 185, 'squarespace': 3671, 'anyway': 175, 'ceo': 588, 'stringproperty': 3750, 'cfce': 594, 'campaign': 535, 'onalt': 2646, 'explorer': 1329, 'reboot': 3163, 'navy': 2517, 'drink': 1137, 'rename': 3243, 'normal': 2578, 'preordere': 2941, 'preferably': 2933, 'social': 3606, 'media': 2349, 'chain': 600, 'distribution': 1086, 'often': 2635, 'min': 2400, 'overwrite': 2703, 'twice': 4047, 'compromise': 736, 'final': 1413, 'public': 3056, 'inputpaste': 1907, 'inputhash': 1906, 'strconv': 3742, 'strdupy': 3743, 'market': 2308, 'intended': 1933, 'mjorderson': 2422, 'comcastdalla': 708, 'lemus': 2166, 'bryan': 478, 'department': 980, 'equipment': 1255, 'authorized': 280, 'reseller': 3273, 'cavell': 574, 'tocavell': 3964, 'exclusivity': 1306, 'side': 3541, 'paste': 2748, 'meaningful': 2339, 'santa': 3381, 'buck': 487, 'shape': 3496, 'hat': 1720, 'ongoing': 2651, 'tour': 3988, 'dress': 1136, 'lady': 2126, 'suit': 3786, 'classic': 660, 'xddb': 4380, 'xddbd': 4381, 'xddef': 4382, 'haveylvan': 1723, 'pixc': 2842, 'sake': 3370, 'mentor': 2362, 'student': 3758, 'lead': 2149, 'explicitly': 1327, 'insurer': 1926, 'obvious': 2619, 'inventoryservice': 1959, 'brigot': 468, 'russia': 3360, 'bailoschko': 317, 'audition': 266, 'goo': 1636, 'gl': 1614, 'qfndzq': 3093, 'seriousness': 3470, 'cf': 593, 'bfc': 383, 'prepay': 2944, 'prepaid': 2942, 'fprintf': 1485, 'lag': 2127, 'unicode': 4089, 'ccc': 578, 'refuse': 3204, 'itune': 1997, 'queen': 3105, 'hill': 1761, 'sq': 3668, 'ft': 1510, 'onreceive': 2654, 'psegable': 3049, 'throw': 3936, 'illegalargumentexception': 1847, 'nascha': 2506, 'advertisement': 70, 'embassy': 1206, 'islamabad': 1985, 'performance': 2792, 'phase': 2815, 'eliminate': 1200, 'cpw': 832, 'relauncher': 3224, 'coremodmanager': 802, 'desirable': 995, 'automatic': 284, 'apprehend': 198, 'reimburse': 3217, 'sony': 3623, 'buddychase': 490, 'wakk': 4243, 'recyclary': 3189, 'git': 1605, 'index': 1884, 'pbs': 2767, 'twimg': 4048, 'medium': 2353, 'cjgm': 653, 'straight': 3736, 'yeproflip': 4436, 'gasp': 1545, 'hjwjhbaix': 1769, 'tolkien': 3970, 'jrroger': 2055, 'volta': 4225, 'unsolicited': 4110, 'alleviate': 117, 'safely': 3368, 'intptr': 1951, 'necessarily': 2523, 'penguinadi': 2781, 'double': 1121, 'policymachine': 2888, 'seo': 3462, 'optimizer': 2669, 'turbine': 4036, 'culprit': 864, 'publish': 3058, 'powerpunch': 2918, 'sunday': 3794, 'experienced': 1317, 'initial': 1902, 'shampoo': 3493, 'waste': 4257, 'inv': 1956, 'realize': 3157, 'bos': 438, 'hungry': 1813, 'dmv': 1096, 'nimbus': 2560, 'specification': 3650, 'ips': 1974, 'towards': 3991, 'slashing': 3582, 'cutter': 888, 'scei': 3403, 'tiptoe': 3954, 'sneak': 3604, 'peek': 2775, 'highly': 1759, 'appreciated': 197, 'anybody': 171, 'firefox': 1423, 'obiomoto': 2613, 'droid': 1140, 'intel': 1931, 'skydragon': 3577, 'letter': 2173, 'keyboard': 2088, 'sgtllk': 3489, 'origin': 2682, 'telephone': 3873, 'beer': 358, 'shirt': 3511, 'foray': 1463, 'vinegar': 4203, 'armor': 216, 'legendary': 2161, 'warrior': 4255, 'wear': 4264, 'kindly': 2101, 'champagewide': 601, 'lorem': 2241, 'ipsum': 1976, 'brazil': 456, 'alarm': 106, 'weird': 4279, 'validate': 4158, 'webapalotool': 4266, 'userssnl': 4142, 'xaml': 4367, 'xen': 4393, 'nasty': 2507, 'mmm': 2425, 'ave': 291, 'tarr': 3852, 'iuka': 1998, 'instead': 1921, 'distraction': 1083, 'chris': 631, 'university': 4097, 'mybrowsing': 2487, 'productsearch': 3006, 'risk': 3330, 'kgggyxzc': 2095, 'religion': 3229, 'newanarchy': 2541, 'develop': 1009, 'randy': 3131, 'jrk': 2054, 'shutterbridge': 3535, 'withdraw': 4324, 'thoseza': 3929, 'orderora': 2675, 'pfnjv': 2809, 'continued': 784, 'bambino': 323, 'juanjlohan': 2062, 'thejuanjlohan': 3906, 'five': 1437, 'remind': 3236, 'residence': 3278, 'donald': 1110, 'trump': 4027, 'realdonaldtrump': 3155, 'danaparkin': 901, 'convenience': 788, 'tandf': 3849, 'galaxy': 1532, 'paparmy': 2729, 'edu': 1181, 'mm': 2424, 'kevin': 2086, 'announce': 160, 'grant': 1658, 'toobject': 3977, 'lunch': 2261, 'treat': 4010, 'visible': 4213, 'temporary': 3877, 'operation': 2663, 'lucky': 2258, 'placeholder': 2847, 'agent': 88, 'pdf': 2770, 'translation': 4006, 'blockquote': 415, 'btn': 483, 'primary': 2960, 'alt': 130, 'wall': 4244, 'street': 3745, 'journal': 2049, 'produce': 2983, 'kitty': 2109, 'vcsf': 4176, 'pleaserobot': 2862, 'wizard': 4328, 'feasible': 1386, 'openpeer': 2660, 'circumstance': 644, 'prescribe': 2945, 'nsl': 2596, 'piaac': 2824, 'cute': 886, 'host': 1789, 'meeting': 2355, 'fwy': 1529, 'se': 3431, 'west': 4286, 'ne': 2520, 'laserprint': 2137, 'asus': 249, 'calculation': 526, 'productdata': 2986, 'exclude': 1301, 'jew': 2027, 'plaster': 2850, 'dexexc': 1016, 'fresh': 1500, 'ht': 1800, 'minecraft': 2404, 'impact': 1856, 'growwithyourgrasp': 1679, 'raw': 3141, 'city': 650, 'plenty': 2866, 'november': 2590, 'xe': 4386, 'piruo': 2840, 'csp': 860, 'xed': 4391, 'alias': 113, 'hunt': 1814, 'icr': 1827, 'myemail': 2491, 'utf': 4151, 'frozen': 1506, 'coffee': 693, 'seven': 3484, 'rewrite': 3318, 'iostream': 1969, 'emit': 1212, 'meanwhile': 2342, 'usual': 4147, 'folk': 1455, 'queue': 3109, 'catch': 567, 'ls': 2253, 'satisfied': 3386, 'mistake': 2417, 'publisher': 3059, 'dirk': 1051, 'oehler': 2626, 'ajarm': 101, 'forums': 1476, 'negative': 2528, 'themethayout': 3908, 'boutiquee': 448, 'democrat': 975, 'michaelsmith': 2383, 'selling': 3453, 'rush': 3359, 'positive': 2901, 'gmane': 1627, 'cigarette': 642, 'authentication': 274, 'module': 2439, 'deity': 963, 'anxiety': 170, 'pgs': 2811, 'fur': 1522, 'confidential': 747, 'advertise': 69, 'wix': 4327, 'rise': 3329, 'qq': 3096, 'brightness': 467, 'hachet': 1695, 'generally': 1558, 'strong': 3751, 'jerk': 2024, 'chmod': 627, 'manufacturing': 2298, 'nginx': 2551, 'uname': 4068, 'jell': 2021, 'donnit': 1115, 'soviet': 3640, 'sylvanian': 3824, 'yeah': 4432, 'dunno': 1150, 'truly': 4026, 'noggin': 2566, 'alone': 122, 'casebycase': 561, 'loyal': 2252, 'htm': 1802, 'apk': 181, 'jsp': 2058, 'prov': 3040, 'jt': 2060, 'vasch': 4171, 'correspond': 807, 'road': 3333, 'thatoslav': 3895, 'mouse': 2460, 'squeek': 3672, 'sticker': 3724, 'unsure': 4114, 'cid': 640, 'getproductpurchasecode': 1579, 'getprice': 1575, 'individualized': 1889, 'productupgrade': 3009, 'exclusively': 1305, 'storage': 3731, 'char': 605, 'ffcaee': 1401, 'jeff': 2019, 'backer': 307, 'adjustment': 55, 'receiving': 3167, 'gw': 1692, 'xff': 4398, 'tm': 3960, 'mfg': 2376, 'rabbitmarket': 3119, 'foundry': 1482, 'mikesaurio': 2396, 'chimera': 625, 'dive': 1091, 'ya': 4425, 'disability': 1052, 'attorney': 261, 'revise': 3314, 'michaelb': 2381, 'paranormal': 2733, 'sniper': 3605, 'guru': 1687, 'unstuck': 4112, 'btw': 485, 'bounty': 445, 'pound': 2914, 'gram': 1654, 'delay': 964, 'tos': 3981, 'theunz': 3920, 'ejection': 1193, 'proposal': 3032, 'stage': 3689, 'marshal': 2313, 'maverick': 2325, 'memory': 2360, 'kick': 2096, 'blame': 408, 'havenius': 1722, 'gambler': 1534, 'shoutcraft': 3529, 'nand': 2504, 'boutao': 447, 'retrospect': 3307, 'diligence': 1039, 'cinelab': 643, 'gmt': 1629, 'inventorytweak': 1960, 'lulu': 2259, 'precise': 2929, 'selection': 3447, 'door': 1116, 'hesitate': 1750, 'misuse': 2419, 'stagg': 3690, 'alpus': 125, 'container': 780, 'shiftinggear': 3504, 'dv': 1155, 'reika': 3216, 'wehr': 4277, 'nether': 2536, 'enderio': 1226, 'hd': 1725, 'gddr': 1552, 'apu': 207, 'matching': 2317, 'acquire': 26, 'slot': 3593, 'juan': 2061, 'mall': 2283, 'plum': 2872, 'felise': 1396, 'gladly': 1616, 'sellername': 3452, 'scott': 3420, 'mccaffrey': 2331, 'scottmcaffrey': 3421, 'dhl': 1020, 'tip': 3953, 'maine': 2273, 'healthtoy': 1735, 'healtht': 1734, 'ciao': 639, 'dong': 1114, 'weekly': 4276, 'doubt': 1122, 'alteration': 132, 'favor': 1376, 'ipstat': 1975, 'inbox': 1871, 'lily': 2191, 'expert': 1319, 'expertise': 1320, 'socket': 3607, 'vupx': 4237, 'material': 2319, 'automation': 286, 'loan': 2221, 'repayment': 3251, 'cogymag': 694, 'fas': 1370, 'jewelrycraft': 2028, 'stability': 3683, 'optimization': 2668, 'percentage': 2788, 'extend': 1333, 'aluminum': 137, 'casing': 563, 'cd': 579, 'fitch': 1433, 'average': 292, 'ea': 1157, 'sculpting': 3429, 'upon': 4124, 'trial': 4013, 'vxm': 4239, 'firstocate': 1429, 'mah': 2269, 'ticket': 3940, 'tube': 4033, 'responsive': 3292, 'psn': 3050, 'randi': 3130, 'harper': 1715, 'improvement': 1865, 'args': 212, 'productdescription': 2987, 'testcreate': 3885, 'testcode': 3884, 'testexception': 3886, 'sarah': 3383, 'butt': 504, 'catalog': 566, 'xavier': 4369, 'announcement': 161, 'revive': 3315, 'history': 1767, 'carnivorous': 554, 'grenadine': 1670, 'grizzly': 1673, 'kelica': 2082, 'joshuota': 2048, 'eid': 1190, 'sr': 3673, 'tinybox': 3952, 'offline': 2633, 'activity': 35, 'merit': 2367, 'gustiam': 1689, 'legendaryactivity': 2162, 'scratch': 3422, 'addto': 54, 'hit': 1768, 'misleading': 2412, 'ai': 96, 'dino': 1043, 'dnb': 1097, 'foremost': 1465, 'vikie': 4200, 'vike': 4199, 'legislature': 2163, 'nightmare': 2558, 'spell': 3656, 'intent': 1934, 'unreal': 4105, 'istock': 1991, 'yarn': 4430, 'slug': 3595, 'tap': 3850, 'vulnerable': 4236, 'fcd': 1382, 'ff': 1400, 'ffffd': 1403, 'structured': 3755, 'body': 425, 'outdated': 2691, 'agy': 94, 'gm': 1625, 'dial': 1024, 'pokemon': 2885, 'generic': 1561, 'ban': 324, 'tracker': 3995, 'prosecco': 3033, 'qmc': 3095, 'sarge': 3384, 'gender': 1556, 'headband': 1728, 'band': 326, 'dockerfile': 1102, 'sonic': 3622, 'guzon': 1691, 'ganbeludo': 1542, 'ghetsys': 1586, 'bunker': 499, 'auxiliary': 287, 'shoot': 3518, 'mount': 2458, 'footage': 1461, 'unusable': 4115, 'macos': 2268, 'dota': 1119, 'trim': 4018, 'roothare': 3344, 'ignore': 1842, 'tasco': 3853, 'subreddit': 3767, 'johr': 2041, 'reconnecte': 3181, 'motorcyclesport': 2457, 'detachment': 1001, 'internal': 1945, 'widget': 4305, 'touhoumon': 3987, 'touhoubon': 3986, 'framework': 1489, 'traffic': 4001, 'kit': 2107, 'eth': 1271, 'getproduct': 1576, 'global': 1620, 'fitnesscouch': 1434, 'analytic': 150, 'gemini': 1554, 'gallon': 1533, 'near': 2521, 'surprise': 3806, 'dropdown': 1143, 'wellerva': 4282, 'elsewhere': 1202, 'ietf': 1836, 'xebb': 4389, 'fiz': 1440, 'bump': 496, 'uncle': 4073, 'bourbon': 446, 'fun': 1516, 'taboola': 3836, 'deny': 979, 'bethn': 377, 'jstor': 2059, 'asset': 239, 'whatsoever': 4292, 'ssa': 3678, 'smartphone': 3598, 'pacific': 2709, 'pen': 2777, 'advent': 68, 'catholic': 570, 'encyclopedia': 1224, 'church': 638, 'father': 1372, 'summa': 3790, 'disk': 1074, 'kowalz': 2119, 'spigot': 3660, 'watchdog': 4259, 'freenode': 1497, 'requestlist': 3267, 'validity': 4159, 'holder': 1778, 'eight': 1191, 'virustotal': 4212, 'kfc': 2093, 'blessing': 409, 'disguise': 1072, 'narrow': 2505, 'demo': 973, 'py': 3087, 'pyd': 3088, 'shoeshop': 3516, 'museum': 2478, 'civilization': 651, 'painting': 2720, 'westerner': 4287, 'tribute': 4014, 'essential': 1266, 'smoothly': 3602, 'ton': 3976, 'acknowledgement': 24, 'disclosure': 1059, 'webpage': 4269, 'roldsman': 3338, 'xh': 4400, 'makersystem': 2279, 'lfgntqkv': 2175, 'directory': 1050, 'kryczak': 2120, 'evolve': 1287, 'conduct': 744, 'durability': 1152, 'xeabdb': 4387, 'plastic': 2851, 'sturdy': 3762, 'xefacfbfecb': 4392, 'xebee': 4390, 'identifi': 1831, 'descriptive': 990, 'myapp': 2486, 'gauge': 1548, 'rshul': 3351, 'shigu': 3505, 'allocate': 118, 'studio': 3759, 'storify': 3733, 'segment': 3445, 'worldbuilder': 4345, 'worldbuilde': 4344, 'robertson': 3335, 'finger': 1420, 'star': 3695, 'intrinsic': 1952, 'authenticate': 273, 'maximum': 2326, 'lower': 2251, 'inactive': 1868, 'thebiggerthanjtea': 3898, 'ass': 237, 'totem': 3983, 'tetris': 3888, 'tobacco': 3962, 'cuff': 863, 'gopro': 1642, 'speaking': 3645, 'isolate': 1987, 'arab': 208, 'productp': 2999, 'xps': 4414, 'calendar': 528, 'shorten': 3526, 'lanja': 2133, 'sleaf': 3583, 'grass': 1662, 'faire': 1356, 'aaron': 0, 'arth': 226, 'bdalts': 349, 'bfaldorf': 381, 'promptly': 3025, 'drawer': 1133, 'rex': 3319, 'paint': 2719, 'pile': 2830, 'wood': 4335, 'peta': 2806, 'techsupport': 3868, 'thecustomerexperiencemanager': 3900, 'sync': 3828, 'td': 3861, 'tr': 3993, 'networkrog': 2538, 'hint': 1763, 'sub': 3764, 'required': 3269, 'unreasonable': 4106, 'unethical': 4082, 'accurate': 18, 'wpppi': 4354, 'qjhmr': 3094, 'bmj': 421, 'erick': 1260, '上星': 4472, 'iworklab': 1999, 'personalized': 2802, 'discover': 1066, 'stream': 3744, 'inside': 1912, 'utah': 4149, 'rsl': 3352, 'broadcast': 471, 'territory': 3881, 'sample': 3375, 'whatidity': 4291, 'ace': 20, 'cc': 577, 'cbbeb': 575, 'silliman': 3549, 'brother': 474, 'instagram': 1914, 'shywh': 3538, 'divorce': 1092, 'mechanism': 2345, 'sidearm': 3542, 'getcontentservice': 1572, 'puh': 3060, 'poh': 2882, 'layout': 2147, 'los': 2243, 'caleb': 527, 'squad': 3669, 'previously': 2955, 'gramph': 1656, 'entire': 1245, 'feeling': 1395, 'bnj': 422, 'moto': 2456, 'integrity': 1930, 'adx': 75, 'cramp': 835, 'ifndef': 1840, 'mhcc': 2378, 'linux': 2198, 'zarissa': 4454, 'everybody': 1283, 'awkward': 299, 'gravity': 1664, 'spokeswoman': 3664, 'texas': 3889, 'court': 826, 'criminal': 850, 'appeal': 188, 'theuttere': 3921, 'hack': 1696, 'stackoverflow': 3686, 'qxc': 3117, 'bqd': 451, 'commitment': 717, 'simpson': 3557, 'pad': 2715, 'vitalyn': 4220, 'realbitcoin': 3154, 'memberactivity': 2358, 'jarewhisper': 2011, 'praise': 2926, 'speed': 3654, 'exhausted': 1310, 'physically': 2823, 'tick': 3939, 'launcher': 2143, 'un': 4065, 'disconnection': 1062, 'julia': 2064, 'sebastian': 3435, 'definite': 957, 'straightforward': 3738, 'confessional': 745, 'intend': 1932, 'blacklist': 407, 'mon': 2445, 'sep': 3463, 'bst': 481, 'jb': 2015, 'target': 3851, 'connected': 762, 'steamcommunity': 3715, 'comprehensive': 735, 'closely': 674, 'authority': 277, 'webrtc': 4270, 'troublesh': 4021, 'grow': 1677, 'plex': 2867, 'powershell': 2919, 'tried': 4017, 'illustrative': 1848, 'gordon': 1643, 'respectful': 3286, 'fair': 1355, 'flashplayer': 1445, 'panther': 2728, 'peppermint': 2784, 'slack': 3580, 'permit': 2798, 'vault': 4173, 'thirty': 3926, 'dayscleanup': 929, 'noop': 2576, 'bj': 402, 'qf': 3092, 'frost': 1505, 'mascara': 2314, 'paulyme': 2759, 'template': 3875, 'giantalabaster': 1591, 'ddfbbefaccdca': 932, 'maps': 2301, 'complicated': 732, 'tiny': 3951, 'son': 3621, 'ykvxrjegljq': 4440, 'justin': 2072, 'photographer': 2819, 'diagnose': 1022, 'traumatic': 4009, 'stress': 3746, 'disorder': 1076, 'frighteningly': 1503, 'fear': 1385, 'manipulate': 2291, 'xclip': 4375, 'kinect': 2102, 'headset': 1731, 'incur': 1883, 'straighten': 3737, 'sbd': 3395, 'respective': 3287, 'ownership': 2705, 'citadel': 646, 'yelp': 4434, 'thankyou': 3893, 'santosh': 3382, 'sotu': 3633, 'nougat': 2588, 'cyanide': 891, 'powder': 2915, 'energizer': 1231, 'processor': 2980, 'ppp': 2922, 'locked': 2226, 'unaware': 4071, 'watson': 4261, 'qt': 3099, 'comply': 733, 'productshop': 3007, 'ride': 3326, 'tacom': 3840, 'nam': 2502, 'productpurchaseproc': 3004, 'productinstallproc': 2991, 'productre': 3005, 'ifape': 1837, 'vs': 4232, 'craigslist': 834, 'careful': 549, 'gsm': 1680, 'plist': 2869, 'safety': 3369, 'migrate': 2391, 'modern': 2436, 'dolphin': 1108, 'forsale': 1474, 'jrinso': 2053, 'nfl': 2549, 'gimp': 1598, 'sit': 3566, 'counter': 818, 'giant': 1590, 'proportion': 3031, 'nature': 2511, 'pleaseplan': 2861, 'honor': 1784, 'nicely': 2553, 'grammy': 1655, 'klausjohansen': 2112, 'disrepair': 1080, 'productversion': 3010, 'graphene': 1659, 'addendum': 46, 'customize': 883, 'founded': 1480, 'hiftrax': 1757, 'hifi': 1756, 'trent': 4011, 'neil': 2529, 'starter': 3699, 'propagate': 3027, 'sylvia': 3825, 'bts': 484, 'tinkfactory': 3950, 'showthread': 3531, 'grateful': 1663, 'reminder': 3237, 'const': 773, 'parse': 2736, 'systemctl': 3831, 'usr': 4145, 'giorgio': 1601, 'gio': 1600, 'nuvo': 2607, 'nuo': 2604, 'gatsby': 1547, 'gif': 1593, 'recolor': 3177, 'repaint': 3249, 'npdc': 2591, 'tiger': 3943, 'rookie': 3341, 'oidf': 2638, 'oid': 2637, 'oncepirate': 2647, 'developers': 1011, 'odd': 2625, 'attention': 260, 'recreate': 3187, 'ashbrook': 232, 'movie': 2462, 'attachment': 255, 'scrub': 3428, 'linuxfoundation': 2199, 'pipermail': 2838, 'foundation': 1479, 'david': 921, 'keyword': 2091, 'lint': 2197, 'impossible': 1861, 'sa': 3365, 'devastation': 1008, 'hurricane': 1815, 'irene': 1981, 'powerful': 2917, 'storm': 3734, 'surge': 3805, 'pqd': 2924, 'tivo': 3958, 'iid': 1844, 'baca': 304, 'acc': 7, 'fb': 1379, 'dbdda': 930, 'slider': 3588, 'crisp': 851, 'solid': 3610, 'digitize': 1038, 'depressive': 984, 'hundred': 1812, 'twenty': 4046, 'dianne': 1028, 'stderr': 3711, 'lang': 2131, 'throwable': 3937, 'wrappedprintstream': 4355, 'println': 2965, 'literally': 2208, 'mitsuya': 2420, 'shikishi': 3506, 'hopefully': 1786, 'means': 2340, 'stack': 3685, 'gilbert': 1597, 'pant': 2727, 'poisonous': 2884, 'stomach': 3728, 'taste': 3855, 'crap': 836, 'anti': 169, 'vinyl': 4204, 'graham': 1653, 'saucecarter': 3388, 'decent': 945, 'coverage': 830, 'dist': 1081, 'cli': 666, 'grad': 1650, 'hijo': 1760, 'bud': 489, 'tax': 3857, 'rockshark': 3336, 'adblock': 43, 'whitelist': 4298, 'zach': 4453, 'durstine': 1153, 'deitus': 962, 'ofatchewan': 2628, 'flamestock': 1443, 'darkness': 909, 'protagonist': 3034, 'habit': 1694, 'embrace': 1208, 'relation': 3222, 'dennis': 977, 'xinput': 4404, 'mystery': 2499, 'real': 3153, 'researcher': 3272, 'suspend': 3813, 'pcbeth': 2769, 'activation': 32, 'observe': 2617, 'xp': 4413, 'sellercare': 3451, 'moderator': 2435, 'bravo': 455, 'cry': 857, 'fantasy': 1365, 'ground': 1675, 'unplug': 4103, 'jobbridge': 2035, 'sce': 3402, 'authent': 272, 'gourmet': 1645, 'grocery': 1674, 'bool': 433, 'inherit': 1899, 'pyx': 3089, 'ryan': 3363, 'chron': 637, 'biscuit': 397, 'stereotype': 3721, 'sleight': 3584, 'pearl': 2773, 'compliant': 731, 'cfo': 596, 'overtime': 2701, 'bugfixe': 494, 'kiki': 2099, 'delicious': 967, 'passionate': 2745, 'bryce': 479, 'davlovesgoodfood': 926, 'shapel': 3497, 'tyrumiko': 4058, 'razer': 3142, 'casino': 564, 'creak': 842, 'jeb': 2017, 'jebj': 2018, 'vincenzo': 4202, 'interval': 1949, 'seth': 3476, 'visser': 4215, 'sick': 3539, 'izqz': 2000, 'getelementsbytype': 1574, 'charsequence': 612, 'arrvalue': 223, 'afafbffddfe': 77, 'valute': 4161, 'recognise': 3175, 'eur': 1275, 'iain': 1823, 'giamt': 1589, 'suburb': 3775, 'atlanta': 251, 'spokesperson': 3663, 'ascertain': 231, 'genuine': 1564, 'distance': 1082, 'typically': 4056, 'dictatorship': 1029, 'sensitive': 3460, 'encoder': 1221, 'fave': 1375, 'periodically': 2794, 'inspect': 1913, 'used': 4136, 'monetary': 2447, 'pepsi': 2785, 'cpu': 831, 'shawne': 3500, 'mjw': 2423, 'charliescene': 610, 'introduction': 1954, 'reduce': 3195, 'popup': 2895, 'focus': 1453, 'slight': 3589, 'settlingcocoa': 3482, 'retrieving': 3306, 'googleadapter': 1640, 'endfunction': 1227, 'recourse': 3183, 'frustrated': 1507, 'alexis': 112, 'influence': 1892, 'xin': 4403, 'xiang': 4401, 'xong': 4412, 'xun': 4418, 'xiao': 4402, 'liable': 2178, 'democracynow': 974, 'evening': 1279, 'sbin': 3396, 'inclusion': 1875, 'gemmich': 1555, 'bubble': 486, 'jkbcjevzh': 2032, 'xdyj': 4385, 'hippocamp': 1766, 'zgxsmdi': 4460, 'converter': 791, 'productpurchased': 3003, 'contract': 785, 'kobo': 2117, 'bacef': 305, 'paydirt': 2763, 'disclaimer': 1058, 'jenny': 2022, 'dynamo': 1156, 'modder': 2429, 'nutshell': 2606, 'asc': 230, 'breakin': 459, 'cr': 833, 'adoptivecarsystem': 62, 'vein': 4180, 'australian': 271, 'unfortunate': 4086, 'cake': 525, 'egg': 1188, 'tasting': 3856, 'enduser': 1230, 'operating': 2662, 'unplugged': 4104, 'pillow': 2831, 'pa': 2708, 'realistic': 3156, 'assistant': 243, 'aria': 213, 'customization': 882, 'minecraftforge': 2405, 'fmlmodcontainer': 1452, 'constructcontainer': 775, 'partial': 2738, 'lifecycle': 2187, 'path': 2752, 'corporation': 804, 'tryout': 4032, 'kf': 2092, 'repository': 3260, 'tiddler': 3941, 'cj': 652, 'ordering': 2674, 'chromium': 636, 'pnn': 2877, 'securely': 3440, 'criterion': 853, 'liannekelee': 2179, 'bygpzhcm': 513, 'kastel': 2077, 'benkastel': 372, 'urgent': 4128, 'tile': 3944, 'emphasis': 1215, 'concurrency': 742, 'keygen': 2089, 'syntax': 3829, 'bfbedba': 382, 'nol': 2569, 'executable': 1307, 'mummy': 2477, 'unsold': 4109, 'lester': 2170, 'ny': 2609, 'pause': 2760, 'slowly': 3594, 'ambulance': 142, 'sam': 3373, 'sambrowne': 3374, 'hollywood': 1779, 'shyakumir': 3537, 'music': 2480, 'transcode': 4003, 'cas': 559, 'rt': 3354, 'vendorsparklab': 4183, 'sf': 3487, 'admit': 59, 'shocked': 3514, 'ebook': 1169, 'swanese': 3816, 'lipstick': 2201, 'coopinion': 797, 'role': 3339, 'stone': 3729, 'translator': 4007, 'mamut': 2285, 'beware': 378, 'shoe': 3515, 'mint': 2409, 'sccm': 3401, 'nation': 2508, 'firstny': 1428, 'symptom': 3827, 'underlying': 4078, 'sentence': 3461, 'precede': 2928, 'uncrack': 4075, 'borrowing': 437, 'fraud': 1490, 'cosmetic': 809, 'agency': 87, 'qdg': 3090, 'pende': 2779, 'jennyp': 2023, 'crate': 838, 'caffeine': 520, 'experiment': 1318, 'sweetener': 3819, 'yuppie': 4452, 'generation': 1560, 'lidia': 2184, 'clinical': 671, 'pharmacist': 2812, 'prescription': 2946, 'medicine': 2352, 'vicovir': 4194, 'prozac': 3046, 'walmart': 4247, 'dude': 1146, 'irritate': 1983, 'dabf': 894, 'vendouristcenter': 4184, 'room': 3342, 'greet': 1668, 'quietly': 3113, 'getuserid': 1582, 'rogers': 3337, 'mikerobbin': 2395, 'duke': 1149, 'kelly': 2083, 'shoplift': 3520, 'doctype': 1105, 'xmlns': 4409, 'meta': 2372, 'charset': 613, 'young': 4445, 'adore': 63, 'dearly': 939, 'heπs': 1752, 'resold': 3280, 'reputable': 3265, 'giddy': 1592, 'dippy': 1044, 'preloaded': 2938, 'sid': 3540, 'degree': 960, 'jody': 2036, 'anderson': 152, 'erica': 1259, 'communicate': 719, 'jump': 2068, 'gz': 1693, 'nerf': 2532, 'musician': 2481, 'entrepreneur': 1248, 'dream': 1134, 'adsense': 64, 'connector': 765, 'width': 4306, 'height': 1742, 'interact': 1936, 'cisco': 645, 'lenny': 2168, 'appcompat': 186, 'richard': 3323, 'aultman': 269, 'tedward': 3870, 'wire': 4318, 'ami': 147, 'hq': 1798, 'density': 978, 'gloss': 1622, 'perspective': 2804, 'barcode': 333, 'shout': 3528, 'hannah': 1709, 'expiration': 1321, 'ini': 1900, 'lmao': 2215, 'salesforce': 3372, 'soooo': 3626, 'tobitebasket': 3963, 'sharon': 3499, 'lachlan': 2124, 'nurse': 2605, 'boston': 440, 'teach': 3862, 'health': 1733, 'columbia': 701, 'vain': 4156, 'emulator': 1218, 'apache': 179, 'mei': 2356, 'mai': 2270, 'wu': 4362, 'geolphobee': 1566, 'ithead': 1996, 'misbehaving': 2411, 'behavior': 363, 'alternative': 134, 'deleting': 966, 'tired': 3955, 'hate': 1721, 'shit': 3512, 'wise': 4320, 'gas': 1544, 'sorted': 3631, 'shutdown': 3534, 'controller': 787, 'bang': 328, 'ex': 1288, 'equiv': 1256, 'ole': 2644, 'aging': 90, 'extreme': 1340, 'smell': 3600, 'scent': 3405, 'flower': 1449, 'homework': 1781, 'sommer': 3620, 'sawyer': 3392, 'cig': 641, 'blister': 410, 'yr': 4449, 'cm': 681, 'resolver': 3283, 'mute': 2483, 'hw': 1819, 'pastebin': 2749, 'bjvvjm': 405, 'bfw': 384, 'peter': 2807, 'schreiber': 3413, 'haycott': 1724, 'pizza': 2843, 'hut': 1818, 'xdram': 4384, 'eagle': 1159, 'pendant': 2778, 'backerkit': 308, 'logue': 2235, 'webapp': 4267, 'bdn': 351, 'shy': 3536, 'journalism': 2050, 'unlimited': 4100, 'national': 2509, 'international': 1946, 'sandy': 3379, 'gc': 1551, 'mechanic': 2344, 'glusi': 1624, 'indication': 1887, 'approximate': 203, 'strawberry': 3741, 'temporarily': 3876, 'bid': 388, 'nomex': 2571, 'nome': 2570, 'kirk': 2105, 'six': 3569, 'balthazar': 320, '家沙': 4473, 'ly': 2263, 'xmmzw': 4410, 'pxe': 3086, 'stringify': 3749, 'anastasia': 151, 'dlc': 1093, 'fitnessforbrow': 1435, 'resolution': 3281, 'steampowere': 3716, 'taco': 3839, 'gitignore': 1607, 'reading': 3150, 'jquery': 2052, 'caflex': 521, 'colyapa': 703, 'mytru': 2500, 'yale': 4428, 'michele': 2385, 'kepel': 2084, 'horton': 1787, 'copycat': 799, 'behalf': 361, 'hochschild': 1775, 'undead': 4076, 'dimensional': 1041, 'fable': 1345, 'freebie': 1492, 'somewhere': 3619, 'peopie': 2782, 'rosa': 3345, 'silva': 3551, 'nps': 2593, 'found': 1478, 'specialize': 3648, 'rent': 3244, 'boettke': 426, 'token': 3969, 'medbfa': 2348, 'extent': 1336, 'productive': 2993, 'relax': 3225, 'christmas': 632, 'bookmark': 432, 'japanic': 2008, 'poly': 2891, 'ctv': 862, 'eshop': 1263, 'cannabis': 542, 'countless': 820, 'across': 28, 'globe': 1621, 'quarter': 3104, 'paper': 2730, 'restoration': 3298, 'oret': 2677, 'waitress': 4242, 'weekend': 4275, 'bandwidth': 327, 'pssd': 3052, 'bec': 355, 'ab': 1, 'eaddfc': 1158, 'mara': 2303, 'markup': 2312, 'dd': 931, 'dev': 1007, 'zero': 4458, 'msr': 2472, 'birthday': 396, 'sensible': 3459, 'deserve': 991, 'sincere': 3559, 'rectify': 3188, 'shtml': 3532, 'css': 861, 'adapt': 40, 'candycandy': 541, 'michai': 2384, 'laser': 2136, 'spoke': 3662, 'hg': 1754, 'hx': 1821, 'wx': 4365, 'darius': 906, 'degrootis': 961, 'dgrootis': 1018, 'cse': 859, 'fcs': 1383, 'au': 264, 'enlarge': 1236, 'bluemos': 419, 'comma': 711, 'cg': 597, 'gizmo': 1611, 'productcode': 2985, 'eec': 1184, 'fbeb': 1381, 'lie': 2185, 'backocalypse': 310, 'saturday': 3387, 'interference': 1942, 'personally': 2803, 'yaho': 4426, 'zendesk': 4457, 'additive': 50, 'nucleus': 2599, 'coating': 688, 'technology': 3867, 'msdn': 2469, 'macbook': 2265, 'pizzeria': 2844, 'clip': 672, 'mogul': 2440, 'elvipment': 1203, 'gabf': 1530, 'xz': 4424, 'citizen': 649, 'guidance': 1684, 'reorder': 3246, 'graphx': 1661, 'schn': 3411, 'prediction': 2931, 'schulz': 3414, 'wonderful': 4334, 'gentleman': 1563, 'please': 2859, 'areatown': 211, 'worldwide': 4346, 'mccain': 2332, 'a株に出する': 301, 'em': 1204, 'cargo': 551, 'reseting': 3276, 'trading': 3999, 'bedd': 357, 'bf': 380, 'cab': 515, 'baylor': 344, 'oklahoma': 2642, 'zerogel': 4459, 'comfortable': 710, 'excludedlist': 1302, 'reondin': 3245, 'informative': 1896, 'oririt': 2685, 'encrypt': 1223, 'basic': 336, 'secret': 3437, 'decision': 947, 'unzip': 4118, 'deluxe': 971, 'phi': 2816, 'therapeutic': 3914, 'susan': 3811, 'sch': 3406, 'closure': 675, 'joshuex': 2047, 'desktop': 998, 'kjørn': 2111, 'orgel': 2681, 'pleasetrump': 2863, 'hotmail': 1791, 'ng': 2550, 'quiet': 3112, 'background': 309, 'engine': 1232, 'doctorate': 1104, 'economics': 1175, 'economic': 1174, 'law': 2145, 'art': 225, 'mathematic': 2320, 'cancellation': 539, 'reordering': 3247, 'soul': 3635, 'endregion': 1229, 'raint': 3126, 'thestpiercerfitz': 3919, 'screw': 3425, 'gov': 1647, 'gerald': 1567, 'liter': 2207, 'bb': 346, 'xiphone': 4405, 'doc': 1100, 'apr': 204, 'stamp': 3691, 'purchasement': 3070, 'rasmus': 3134, 'bluew': 420, 'along': 123, 'irememe': 1980, 'titanik': 3956, 'unhappy': 4088, 'convince': 792, 'iis': 1845, 'pwc': 3082, 'randall': 3129, 'modelversion': 2432, 'ricardo': 3321, 'annoyed': 162, 'riddle': 3325, 'neilson': 2530, 'computing': 738, 'returning': 3309, 'miner': 2406, 'accordance': 16, 'nwx': 2608, 'recogn': 3174, 'violate': 4205, 'earn': 1161, 'grep': 1671, 'counselor': 816, 'charm': 611, 'rafael': 3122, 'southfield': 3639, 'deck': 948, 'downtown': 1126, 'jabz': 2002, 'worling': 4347, 'worlingcdn': 4348, 'rotten': 3346, 'tomato': 3972, 'freechords': 1494, 'freechord': 1493, 'slamband': 3581, 'mom': 2443, 'yokono': 4441, 'katusaki': 2079, '超地理伝獣': 4474, 'registry': 3211, 'xboost': 4372, 'bluegrin': 418, 'myaccount': 2484, 'bebafecacae': 354, 'unwanted': 4117, 'purchasedat': 3069, 'welp': 4283, 'ple': 2857, 'davidjmc': 922, 'emotional': 1214, 'dad': 896, 'british': 470, 'yahoo': 4427, 'pursuant': 3077, 'fda': 1384, 'regulation': 3214, 'prohibit': 3017, 'substance': 3774, 'srr': 3675, 'hipkick': 1765, 'readable': 3147, 'facilitating': 1349, 'crispin': 852, 'readily': 3149, 'tablet': 3835, 'alaska': 107, 'unacceptable': 4067, 'userbase': 4139, 'possibility': 2903, 'centre': 587, 'customersupport': 879, 'conversation': 789, 'getproductcount': 1577, 'orter': 2686, 'scion': 3417, 'attend': 259, 'mimi': 2399, 'printing': 2964, 'exclusion': 1303, 'jersey': 2025, 'envelope': 1250, 'handler': 1707, 'gotcha': 1644, 'gmaxwell': 1628, 'feed': 1392, 'brief': 466, 'hwang': 1820, 'michaelkhunts': 2382, 'multi': 2475, 'thrift': 3934, 'autism': 281, 'cmp': 684, 'std': 3710, 'ptr': 3055, 'dtor': 1145, 'thefateofchick': 3902, 'ty': 4053, 'possession': 2902, 'turtle': 4038, 'lookup': 2239, 'mcdata': 2333, 'gonzalo': 1635, 'mypci': 2496, 'echocider': 1172, 'liveris': 2211, 'introduce': 1953, 'medibot': 2350, 'accomplish': 14, 'cvs': 889, 'pharmacy': 2814, 'cure': 866, 'hospital': 1788, 'clinic': 669, 'whitehead': 4297, 'davidpwhitehead': 923, 'facilitate': 1348, 'aid': 97, 'shopper': 3522, 'beyond': 379, 'giftstore': 1596, 'restaurant': 3296, 'unbranded': 4072, 'cooler': 795, 'prototype': 3038, 'scale': 3397, 'caution': 572, 'afternoon': 84, 'compensate': 725, 'julie': 2065, 'shoprunner': 3524, 'twitch': 4049, 'dgplayer': 1017, 'nz': 2610, 'niece': 2555, 'explanation': 1326, 'preg': 2935, 'nok': 2568, 'xcfcabc': 4374, 'num': 2601, 'subsidize': 3772, 'coin': 695, 'wholesale': 4300, 'gamer': 1538, 'silly': 3550, 'automate': 283, 'cat': 565, 'proc': 2975, 'applet': 191, 'bom': 428, 'pharmaconu': 2813, 'sus': 3810, 'monthly': 2453, 'surface': 3804, 'sven': 3815, 'nixalux': 2562, 'problematic': 2974, 'tw': 4042, 'sooo': 3625, 'humble': 1811, 'reflip': 3200, 'hydra': 1822, 'diamond': 1027, 'julietr': 2066, 'versatile': 4191, 'fragrance': 1487, 'respected': 3285, 'surrender': 3808, 'trip': 4019, 'onscreen': 2655, 'alzwain': 139, 'sotruder': 3632, 'xfe': 4397, 'xeafd': 4388, 'xaac': 4366, 'kaine': 2075, 'thebern': 3897, 'quit': 3114, 'dnc': 1098, 'elector': 1196, 'race': 3120, 'darth': 912, 'vader': 4155, 'darkside': 910, 'bold': 427, 'sweden': 3817, 'strict': 3747, 'ecommerce': 1173, 'thestooler': 3918, 'bdkjl': 350, 'thingiverse': 3923, 'unencrypted': 4081, 'ee': 1182, 'fluctuation': 1450, 'loggedin': 2229, 'launchpad': 2144, 'bittorrent': 401, 'enthusiasm': 1244, 'percent': 2787, 'artist': 228, 'oversize': 2700, 'xvi': 4419, 'serious': 3469, 'courtney': 828, 'fury': 1524, 'mollykristoph': 2442, 'initialize': 1903, 'itemid': 1995, 'reproduce': 3263, 'myhaireddog': 2494, 'cherry': 622, 'chocolate': 628, 'defect': 954, 'getbundle': 1571, 'productprice': 3001, 'nqehzduj': 2594, 'gamergate': 1539, 'sethaj': 3477, 'pastify': 2750, 'stephen': 3720, 'productinfo': 2990, 'samurai': 3377, 'utility': 4152, 'wmiobject': 4330, 'plied': 2868, 'nzxt': 2611, 'character': 606, 'sunnyface': 3795, 'prove': 3041, 'thebomber': 3899, 'alsoparent': 129, 'european': 1277, 'diameter': 1026, 'costly': 812, 'primarily': 2959, 'expirebottle': 1323, 'exploit': 1328, 'disconnected': 1061, 'strategy': 3740, 'sugar': 3782, 'crush': 856, 'ranking': 3133, 'zip': 4463, 'googleplay': 1641, 'pissed': 2841, 'kirkwatson': 2106, 'customisable': 880, 'customise': 881, 'custodian': 874, 'verepreterous': 4187, 'ravi': 3140, 'davy': 927, 'slick': 3587, 'das': 913, 'isvalid': 1992, 'merry': 2368, 'bureau': 500, 'jorge': 2045, 'uh': 4060, 'loadcontroller': 2218, 'distributestatemessage': 1085, 'lisper': 2202, 'farr': 1369, 'pt': 3054, 'repo': 3257, 'myamazon': 2485, 'squadron': 3670, 'cmdlet': 682, 'productpay': 3000, 'httpd': 1806, 'culturevariant': 865, 'angular': 157, 'possibly': 2905, 'xbc': 4371, 'cance': 537, 'mountain': 2459, 'dew': 1015, 'kinetic': 2103, 'uncommon': 4074, 'dish': 1073, 'workflow': 4341, 'oblivion': 2615, 'pau': 2756, 'xdb': 4379, 'breeze': 460, 'golangotrix': 1633, 'gamefaqs': 1536, 'fifa': 1406, 'swim': 3822, 'mfr': 2377, 'slip': 3592, 'nora': 2577, 'davis': 925, 'zd': 4455, 'vaporizer': 4166, 'tricky': 4016, 'unavailability': 4069, 'hoc': 1774, 'dudified': 1147, 'nominal': 2572, 'schrader': 3412, 'nautilus': 2512, 'wesson': 4285, 'giftcard': 1595, 'candidate': 540, 'bitco': 399, 'beltcoin': 368, 'draft': 1130, 'bip': 395, 'ethereum': 1272, 'cap': 543, 'calf': 529, 'garland': 1543, 'land': 2130, 'baltimore': 321, 'md': 2336, 'rifle': 3327, 'association': 245, 'raven': 3139, 'thursday': 3938, 'checkerbox': 617, 'unfair': 4085, 'defun': 959, 'myproductwanted': 2497, 'interactive': 1937, 'union': 4093, 'examine': 1291, 'igslist': 1843, 'upper': 4125, 'wordpress': 4337, 'zoltan': 4465, 'van': 4163, 'winkle': 4316, 'brianke': 462, 'expired': 1324, 'youpowersquare': 4446, 'purse': 3076, 'scientist': 3416, 'xfdcb': 4396, 'tough': 3985, 'vti': 4235, 'readme': 3151, 'babe': 302, 'asymmetrical': 250, 'painful': 2718, 'admittedly': 60, 'sip': 3565, 'investment': 1963, 'saving': 3391, 'running': 3357, 'xyxqvxje': 4423, 'pamela': 2723, 'cjubey': 654, 'oz': 2707, 'lately': 2140, 'classname': 661, 'nothinwaffle': 2584, 'cajdfc': 524, 'ryanbryan': 3364, 'arrest': 220, 'detain': 1004, 'albany': 108, 'cbsnewyork': 576, 'reveal': 3310, 'sfx': 3488, 'pwned': 3084, 'thedocs': 3901, 'wp': 4353, 'maintainer': 2276, 'takyo': 3845, 'busy': 503, 'jkcrut': 2033, 'gingrich': 1599, 'bsa': 480, 'gold': 1634, 'behave': 362, 'interesting': 1940, 'echo': 1171, 'kitchen': 2108, 'eat': 1167, 'gain': 1531, 'uipybar': 4062, 'aboutume': 4, 'harmless': 1714, 'rc': 3143, 'caveat': 573, 'dpix': 1128, 'jessica': 2026, 'nil': 2559, 'baz': 345, 'tekken': 3871, 'takara': 3843, 'shinkawa': 3507, 'ntt': 2598, 'identical': 1830, 'carrier': 555, 'geographic': 1565, 'xfirmware': 4399, 'clinicable': 670, 'machlab': 2267, 'fallen': 1360, 'smash': 3599, 'pump': 3063, 'scheduling': 3410, 'suggestnfl': 3785, 'depth': 985, 'peterbrown': 2808, 'jwittmann': 2073, 'johnvibald': 2040, 'tomjak': 3974, 'waiting': 4241, 'mami': 2284, 'aoki': 178, 'gk': 1613, 'negate': 2527, 'overall': 2697, 'yorkan': 4443, 'ofmature': 2634, 'sj': 3573, 'rp': 3350, 'lo': 2216, 'vc': 4175, 'wf': 4289, 'sigh': 3545, 'junebug': 2070, 'dith': 1088, 'dither': 1089, 'zinski': 4462, 'tween': 4044, 'scamster': 3399, 'custody': 875, 'unstable': 4111, 'winsock': 4317, 'jury': 2071, 'med': 2347, 'physical': 2822, 'ritebook': 3331, 'potentially': 2910, 'conflicting': 754, 'inconsistent': 1878, 'eepel': 1185, 'bibdsl': 387, 'dandel': 902, 'undefined': 4077, 'tmsne': 3961, 'ws': 4361, 'bhpu': 385, 'lorraine': 2242, 'lor': 2240, 'skip': 3576, 'growth': 1678, 'exp': 1312, 'outlet': 2692, 'borgio': 436, 'purchaseoubtedly': 3071, 'speak': 3644, 'stare': 3697, 'neck': 2525, 'eyebrow': 1343, 'logic': 2230, 'injector': 1904, 'onlink': 2653, 'replay': 3255, 'gsp': 1681, 'utilization': 4153, 'upset': 4126, 'beside': 375, 'pouchy': 2913, 'poc': 2879, 'jj': 2031, 'legit': 2164, 'aug': 267, 'pmiability': 2875, 'unintentional': 4092, 'malicious': 2282, 'oregon': 2676, 'breach': 457, 'attack': 256, 'vxcbfqnusfm': 4238, 'usps': 4144, 'creativate': 844, 'traditionalsignin': 4000, 'anagram': 149, 'clue': 678, 'srudmell': 3677, 'pdp': 2771, 'helpline': 1746, 'position': 2900, 'fullscreen': 1514, 'hlm': 1770, 'afe': 78, 'insecure': 1910, 'venture': 4185, 'pp': 2920, 'cortana': 808, 'productstorename': 3008, 'maketha': 2280}\n"
     ]
    }
   ],
   "source": [
    "print(tfidf_vectorizer.vocabulary_)"
   ]
  },
  {
   "cell_type": "code",
   "execution_count": 41,
   "id": "68773562",
   "metadata": {},
   "outputs": [],
   "source": [
    "dummy = {'a':5,'b':22,'c':2}\n",
    "# sorted(dummy.keys())"
   ]
  },
  {
   "cell_type": "code",
   "execution_count": 42,
   "id": "ee45cdae",
   "metadata": {},
   "outputs": [
    {
     "data": {
      "text/plain": [
       "dict_keys(['a', 'b', 'c'])"
      ]
     },
     "execution_count": 42,
     "metadata": {},
     "output_type": "execute_result"
    }
   ],
   "source": [
    "dummy.keys()\n"
   ]
  },
  {
   "cell_type": "code",
   "execution_count": 43,
   "id": "ca756106",
   "metadata": {},
   "outputs": [
    {
     "data": {
      "text/plain": [
       "[22, 5, 2]"
      ]
     },
     "execution_count": 43,
     "metadata": {},
     "output_type": "execute_result"
    }
   ],
   "source": [
    "sorted(dummy.values(),reverse=True)"
   ]
  },
  {
   "cell_type": "markdown",
   "id": "0bc08f38",
   "metadata": {},
   "source": []
  }
 ],
 "metadata": {
  "kernelspec": {
   "display_name": "Python 3",
   "language": "python",
   "name": "python3"
  },
  "language_info": {
   "codemirror_mode": {
    "name": "ipython",
    "version": 3
   },
   "file_extension": ".py",
   "mimetype": "text/x-python",
   "name": "python",
   "nbconvert_exporter": "python",
   "pygments_lexer": "ipython3",
   "version": "3.11.9"
  }
 },
 "nbformat": 4,
 "nbformat_minor": 5
}
